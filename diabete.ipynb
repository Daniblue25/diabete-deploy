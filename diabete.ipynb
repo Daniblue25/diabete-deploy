{
 "cells": [
  {
   "cell_type": "code",
   "execution_count": 8,
   "metadata": {},
   "outputs": [],
   "source": [
    "# Importation des librairies\n",
    "\n",
    "import pandas as pd\n",
    "import numpy as np\n",
    "import matplotlib.pyplot as plt\n",
    "import seaborn as sns\n",
    "import plotly.express as px\n",
    "from sklearn.decomposition import PCA\n",
    "from sklearn.preprocessing import scale, StandardScaler"
   ]
  },
  {
   "cell_type": "code",
   "execution_count": null,
   "metadata": {},
   "outputs": [],
   "source": [
    "import pickle\n",
    "import numpy as np\n",
    "import matplotlib.pyplot as plt\n",
    "import flask\n",
    "from flask import Flask, request, render_template, url_for"
   ]
  },
  {
   "cell_type": "code",
   "execution_count": null,
   "metadata": {},
   "outputs": [],
   "source": [
    "\n",
    "\"\"\"# Initialiser l'application Flask\n",
    "app = Flask(__name__)\n",
    "# Charger le modèle pré-entrainé\n",
    "model = pickle.load(open(\"class_dia.pkl\", \"rb\"))\n",
    "\n",
    "# Route pour la page d'accueil avec la visualisation de graphiques\n",
    "@app.route('/')\n",
    "def home():\n",
    "    # Générer l'URL de l'image à l'aide de url_for\n",
    "    image_url = url_for('static', filename='image/dan.jpg')\n",
    "    # Rendre le template HTML avec le graphique en arrière-plan\n",
    "    return render_template('home.html', image_url = image_url)"
   ]
  },
  {
   "cell_type": "code",
   "execution_count": 9,
   "metadata": {},
   "outputs": [],
   "source": [
    "path = r\"C:\\Users\\LENOVO\\Documents\\M Learning/data01.csv\""
   ]
  },
  {
   "cell_type": "code",
   "execution_count": 10,
   "metadata": {},
   "outputs": [],
   "source": [
    "df = pd.read_csv(path)"
   ]
  },
  {
   "cell_type": "code",
   "execution_count": 11,
   "metadata": {},
   "outputs": [
    {
     "data": {
      "text/html": [
       "<div>\n",
       "<style scoped>\n",
       "    .dataframe tbody tr th:only-of-type {\n",
       "        vertical-align: middle;\n",
       "    }\n",
       "\n",
       "    .dataframe tbody tr th {\n",
       "        vertical-align: top;\n",
       "    }\n",
       "\n",
       "    .dataframe thead th {\n",
       "        text-align: right;\n",
       "    }\n",
       "</style>\n",
       "<table border=\"1\" class=\"dataframe\">\n",
       "  <thead>\n",
       "    <tr style=\"text-align: right;\">\n",
       "      <th></th>\n",
       "      <th>group</th>\n",
       "      <th>ID</th>\n",
       "      <th>outcome</th>\n",
       "      <th>age</th>\n",
       "      <th>gendera</th>\n",
       "      <th>BMI</th>\n",
       "      <th>hypertensive</th>\n",
       "      <th>atrialfibrillation</th>\n",
       "      <th>CHD with no MI</th>\n",
       "      <th>diabetes</th>\n",
       "      <th>...</th>\n",
       "      <th>Blood sodium</th>\n",
       "      <th>Blood calcium</th>\n",
       "      <th>Chloride</th>\n",
       "      <th>Anion gap</th>\n",
       "      <th>Magnesium ion</th>\n",
       "      <th>PH</th>\n",
       "      <th>Bicarbonate</th>\n",
       "      <th>Lactic acid</th>\n",
       "      <th>PCO2</th>\n",
       "      <th>EF</th>\n",
       "    </tr>\n",
       "  </thead>\n",
       "  <tbody>\n",
       "    <tr>\n",
       "      <th>0</th>\n",
       "      <td>1</td>\n",
       "      <td>125047</td>\n",
       "      <td>0.0</td>\n",
       "      <td>72</td>\n",
       "      <td>1</td>\n",
       "      <td>37.588179</td>\n",
       "      <td>0</td>\n",
       "      <td>0</td>\n",
       "      <td>0</td>\n",
       "      <td>1</td>\n",
       "      <td>...</td>\n",
       "      <td>138.750000</td>\n",
       "      <td>7.463636</td>\n",
       "      <td>109.166667</td>\n",
       "      <td>13.166667</td>\n",
       "      <td>2.618182</td>\n",
       "      <td>7.230</td>\n",
       "      <td>21.166667</td>\n",
       "      <td>0.5</td>\n",
       "      <td>40.0</td>\n",
       "      <td>55</td>\n",
       "    </tr>\n",
       "    <tr>\n",
       "      <th>1</th>\n",
       "      <td>1</td>\n",
       "      <td>139812</td>\n",
       "      <td>0.0</td>\n",
       "      <td>75</td>\n",
       "      <td>2</td>\n",
       "      <td>NaN</td>\n",
       "      <td>0</td>\n",
       "      <td>0</td>\n",
       "      <td>0</td>\n",
       "      <td>0</td>\n",
       "      <td>...</td>\n",
       "      <td>138.888889</td>\n",
       "      <td>8.162500</td>\n",
       "      <td>98.444444</td>\n",
       "      <td>11.444444</td>\n",
       "      <td>1.887500</td>\n",
       "      <td>7.225</td>\n",
       "      <td>33.444444</td>\n",
       "      <td>0.5</td>\n",
       "      <td>78.0</td>\n",
       "      <td>55</td>\n",
       "    </tr>\n",
       "    <tr>\n",
       "      <th>2</th>\n",
       "      <td>1</td>\n",
       "      <td>109787</td>\n",
       "      <td>0.0</td>\n",
       "      <td>83</td>\n",
       "      <td>2</td>\n",
       "      <td>26.572634</td>\n",
       "      <td>0</td>\n",
       "      <td>0</td>\n",
       "      <td>0</td>\n",
       "      <td>0</td>\n",
       "      <td>...</td>\n",
       "      <td>140.714286</td>\n",
       "      <td>8.266667</td>\n",
       "      <td>105.857143</td>\n",
       "      <td>10.000000</td>\n",
       "      <td>2.157143</td>\n",
       "      <td>7.268</td>\n",
       "      <td>30.571429</td>\n",
       "      <td>0.5</td>\n",
       "      <td>71.5</td>\n",
       "      <td>35</td>\n",
       "    </tr>\n",
       "  </tbody>\n",
       "</table>\n",
       "<p>3 rows × 51 columns</p>\n",
       "</div>"
      ],
      "text/plain": [
       "   group      ID  outcome  age  gendera        BMI  hypertensive  \\\n",
       "0      1  125047      0.0   72        1  37.588179             0   \n",
       "1      1  139812      0.0   75        2        NaN             0   \n",
       "2      1  109787      0.0   83        2  26.572634             0   \n",
       "\n",
       "   atrialfibrillation  CHD with no MI  diabetes  ...  Blood sodium  \\\n",
       "0                   0               0         1  ...    138.750000   \n",
       "1                   0               0         0  ...    138.888889   \n",
       "2                   0               0         0  ...    140.714286   \n",
       "\n",
       "   Blood calcium    Chloride  Anion gap  Magnesium ion     PH  Bicarbonate  \\\n",
       "0       7.463636  109.166667  13.166667       2.618182  7.230    21.166667   \n",
       "1       8.162500   98.444444  11.444444       1.887500  7.225    33.444444   \n",
       "2       8.266667  105.857143  10.000000       2.157143  7.268    30.571429   \n",
       "\n",
       "   Lactic acid  PCO2  EF  \n",
       "0          0.5  40.0  55  \n",
       "1          0.5  78.0  55  \n",
       "2          0.5  71.5  35  \n",
       "\n",
       "[3 rows x 51 columns]"
      ]
     },
     "execution_count": 11,
     "metadata": {},
     "output_type": "execute_result"
    }
   ],
   "source": [
    "df.head(3)"
   ]
  },
  {
   "cell_type": "code",
   "execution_count": 12,
   "metadata": {},
   "outputs": [
    {
     "name": "stdout",
     "output_type": "stream",
     "text": [
      "<class 'pandas.core.frame.DataFrame'>\n",
      "RangeIndex: 1177 entries, 0 to 1176\n",
      "Data columns (total 51 columns):\n",
      " #   Column                    Non-Null Count  Dtype  \n",
      "---  ------                    --------------  -----  \n",
      " 0   group                     1177 non-null   int64  \n",
      " 1   ID                        1177 non-null   int64  \n",
      " 2   outcome                   1176 non-null   float64\n",
      " 3   age                       1177 non-null   int64  \n",
      " 4   gendera                   1177 non-null   int64  \n",
      " 5   BMI                       962 non-null    float64\n",
      " 6   hypertensive              1177 non-null   int64  \n",
      " 7   atrialfibrillation        1177 non-null   int64  \n",
      " 8   CHD with no MI            1177 non-null   int64  \n",
      " 9   diabetes                  1177 non-null   int64  \n",
      " 10  deficiencyanemias         1177 non-null   int64  \n",
      " 11  depression                1177 non-null   int64  \n",
      " 12  Hyperlipemia              1177 non-null   int64  \n",
      " 13  Renal failure             1177 non-null   int64  \n",
      " 14  COPD                      1177 non-null   int64  \n",
      " 15  heart rate                1164 non-null   float64\n",
      " 16  Systolic blood pressure   1161 non-null   float64\n",
      " 17  Diastolic blood pressure  1161 non-null   float64\n",
      " 18  Respiratory rate          1164 non-null   float64\n",
      " 19  temperature               1158 non-null   float64\n",
      " 20  SP O2                     1164 non-null   float64\n",
      " 21  Urine output              1141 non-null   float64\n",
      " 22  hematocrit                1177 non-null   float64\n",
      " 23  RBC                       1177 non-null   float64\n",
      " 24  MCH                       1177 non-null   float64\n",
      " 25  MCHC                      1177 non-null   float64\n",
      " 26  MCV                       1177 non-null   float64\n",
      " 27  RDW                       1177 non-null   float64\n",
      " 28  Leucocyte                 1177 non-null   float64\n",
      " 29  Platelets                 1177 non-null   float64\n",
      " 30  Neutrophils               1033 non-null   float64\n",
      " 31  Basophils                 918 non-null    float64\n",
      " 32  Lymphocyte                1032 non-null   float64\n",
      " 33  PT                        1157 non-null   float64\n",
      " 34  INR                       1157 non-null   float64\n",
      " 35  NT-proBNP                 1177 non-null   float64\n",
      " 36  Creatine kinase           1012 non-null   float64\n",
      " 37  Creatinine                1177 non-null   float64\n",
      " 38  Urea nitrogen             1177 non-null   float64\n",
      " 39  glucose                   1159 non-null   float64\n",
      " 40  Blood potassium           1177 non-null   float64\n",
      " 41  Blood sodium              1177 non-null   float64\n",
      " 42  Blood calcium             1176 non-null   float64\n",
      " 43  Chloride                  1177 non-null   float64\n",
      " 44  Anion gap                 1177 non-null   float64\n",
      " 45  Magnesium ion             1177 non-null   float64\n",
      " 46  PH                        885 non-null    float64\n",
      " 47  Bicarbonate               1177 non-null   float64\n",
      " 48  Lactic acid               948 non-null    float64\n",
      " 49  PCO2                      883 non-null    float64\n",
      " 50  EF                        1177 non-null   int64  \n",
      "dtypes: float64(37), int64(14)\n",
      "memory usage: 469.1 KB\n"
     ]
    }
   ],
   "source": [
    "df.info()"
   ]
  },
  {
   "cell_type": "code",
   "execution_count": 13,
   "metadata": {},
   "outputs": [
    {
     "data": {
      "text/plain": [
       "group                         0\n",
       "ID                            0\n",
       "outcome                       1\n",
       "age                           0\n",
       "gendera                       0\n",
       "BMI                         215\n",
       "hypertensive                  0\n",
       "atrialfibrillation            0\n",
       "CHD with no MI                0\n",
       "diabetes                      0\n",
       "deficiencyanemias             0\n",
       "depression                    0\n",
       "Hyperlipemia                  0\n",
       "Renal failure                 0\n",
       "COPD                          0\n",
       "heart rate                   13\n",
       "Systolic blood pressure      16\n",
       "Diastolic blood pressure     16\n",
       "Respiratory rate             13\n",
       "temperature                  19\n",
       "SP O2                        13\n",
       "Urine output                 36\n",
       "hematocrit                    0\n",
       "RBC                           0\n",
       "MCH                           0\n",
       "MCHC                          0\n",
       "MCV                           0\n",
       "RDW                           0\n",
       "Leucocyte                     0\n",
       "Platelets                     0\n",
       "Neutrophils                 144\n",
       "Basophils                   259\n",
       "Lymphocyte                  145\n",
       "PT                           20\n",
       "INR                          20\n",
       "NT-proBNP                     0\n",
       "Creatine kinase             165\n",
       "Creatinine                    0\n",
       "Urea nitrogen                 0\n",
       "glucose                      18\n",
       "Blood potassium               0\n",
       "Blood sodium                  0\n",
       "Blood calcium                 1\n",
       "Chloride                      0\n",
       "Anion gap                     0\n",
       "Magnesium ion                 0\n",
       "PH                          292\n",
       "Bicarbonate                   0\n",
       "Lactic acid                 229\n",
       "PCO2                        294\n",
       "EF                            0\n",
       "dtype: int64"
      ]
     },
     "execution_count": 13,
     "metadata": {},
     "output_type": "execute_result"
    }
   ],
   "source": [
    "df.isnull().sum()"
   ]
  },
  {
   "cell_type": "code",
   "execution_count": 14,
   "metadata": {},
   "outputs": [
    {
     "data": {
      "text/plain": [
       "Index(['group', 'ID', 'outcome', 'age', 'gendera', 'BMI', 'hypertensive',\n",
       "       'atrialfibrillation', 'CHD with no MI', 'diabetes', 'deficiencyanemias',\n",
       "       'depression', 'Hyperlipemia', 'Renal failure', 'COPD', 'heart rate',\n",
       "       'Systolic blood pressure', 'Diastolic blood pressure',\n",
       "       'Respiratory rate', 'temperature', 'SP O2', 'Urine output',\n",
       "       'hematocrit', 'RBC', 'MCH', 'MCHC', 'MCV', 'RDW', 'Leucocyte',\n",
       "       'Platelets', 'Neutrophils', 'Basophils', 'Lymphocyte', 'PT', 'INR',\n",
       "       'NT-proBNP', 'Creatine kinase', 'Creatinine', 'Urea nitrogen',\n",
       "       'glucose', 'Blood potassium', 'Blood sodium', 'Blood calcium',\n",
       "       'Chloride', 'Anion gap', 'Magnesium ion', 'PH', 'Bicarbonate',\n",
       "       'Lactic acid', 'PCO2', 'EF'],\n",
       "      dtype='object')"
      ]
     },
     "execution_count": 14,
     "metadata": {},
     "output_type": "execute_result"
    }
   ],
   "source": [
    "df.columns"
   ]
  },
  {
   "cell_type": "code",
   "execution_count": 15,
   "metadata": {},
   "outputs": [],
   "source": [
    "df = df.drop(['ID','PT', 'INR',\n",
    "       'NT-proBNP', 'Creatine kinase', 'Creatinine', 'Urea nitrogen',\n",
    "       'glucose', 'Blood potassium', 'Blood sodium', 'Blood calcium',\n",
    "       'Chloride', 'Anion gap', 'Magnesium ion', 'PH', 'Bicarbonate',\n",
    "       'Lactic acid', 'PCO2', 'EF'], axis = 1)"
   ]
  },
  {
   "cell_type": "code",
   "execution_count": 16,
   "metadata": {},
   "outputs": [
    {
     "data": {
      "text/plain": [
       "group                         0\n",
       "outcome                       1\n",
       "age                           0\n",
       "gendera                       0\n",
       "BMI                         215\n",
       "hypertensive                  0\n",
       "atrialfibrillation            0\n",
       "CHD with no MI                0\n",
       "diabetes                      0\n",
       "deficiencyanemias             0\n",
       "depression                    0\n",
       "Hyperlipemia                  0\n",
       "Renal failure                 0\n",
       "COPD                          0\n",
       "heart rate                   13\n",
       "Systolic blood pressure      16\n",
       "Diastolic blood pressure     16\n",
       "Respiratory rate             13\n",
       "temperature                  19\n",
       "SP O2                        13\n",
       "Urine output                 36\n",
       "hematocrit                    0\n",
       "RBC                           0\n",
       "MCH                           0\n",
       "MCHC                          0\n",
       "MCV                           0\n",
       "RDW                           0\n",
       "Leucocyte                     0\n",
       "Platelets                     0\n",
       "Neutrophils                 144\n",
       "Basophils                   259\n",
       "Lymphocyte                  145\n",
       "dtype: int64"
      ]
     },
     "execution_count": 16,
     "metadata": {},
     "output_type": "execute_result"
    }
   ],
   "source": [
    "df.isnull().sum()"
   ]
  },
  {
   "cell_type": "code",
   "execution_count": 17,
   "metadata": {},
   "outputs": [
    {
     "data": {
      "text/html": [
       "<div>\n",
       "<style scoped>\n",
       "    .dataframe tbody tr th:only-of-type {\n",
       "        vertical-align: middle;\n",
       "    }\n",
       "\n",
       "    .dataframe tbody tr th {\n",
       "        vertical-align: top;\n",
       "    }\n",
       "\n",
       "    .dataframe thead th {\n",
       "        text-align: right;\n",
       "    }\n",
       "</style>\n",
       "<table border=\"1\" class=\"dataframe\">\n",
       "  <thead>\n",
       "    <tr style=\"text-align: right;\">\n",
       "      <th></th>\n",
       "      <th>group</th>\n",
       "      <th>outcome</th>\n",
       "      <th>age</th>\n",
       "      <th>gendera</th>\n",
       "      <th>BMI</th>\n",
       "      <th>hypertensive</th>\n",
       "      <th>atrialfibrillation</th>\n",
       "      <th>CHD with no MI</th>\n",
       "      <th>diabetes</th>\n",
       "      <th>deficiencyanemias</th>\n",
       "      <th>...</th>\n",
       "      <th>RBC</th>\n",
       "      <th>MCH</th>\n",
       "      <th>MCHC</th>\n",
       "      <th>MCV</th>\n",
       "      <th>RDW</th>\n",
       "      <th>Leucocyte</th>\n",
       "      <th>Platelets</th>\n",
       "      <th>Neutrophils</th>\n",
       "      <th>Basophils</th>\n",
       "      <th>Lymphocyte</th>\n",
       "    </tr>\n",
       "  </thead>\n",
       "  <tbody>\n",
       "    <tr>\n",
       "      <th>count</th>\n",
       "      <td>1177.000000</td>\n",
       "      <td>1176.000000</td>\n",
       "      <td>1177.000000</td>\n",
       "      <td>1177.000000</td>\n",
       "      <td>962.000000</td>\n",
       "      <td>1177.000000</td>\n",
       "      <td>1177.000000</td>\n",
       "      <td>1177.000000</td>\n",
       "      <td>1177.000000</td>\n",
       "      <td>1177.000000</td>\n",
       "      <td>...</td>\n",
       "      <td>1177.000000</td>\n",
       "      <td>1177.000000</td>\n",
       "      <td>1177.000000</td>\n",
       "      <td>1177.000000</td>\n",
       "      <td>1177.000000</td>\n",
       "      <td>1177.000000</td>\n",
       "      <td>1177.000000</td>\n",
       "      <td>1033.000000</td>\n",
       "      <td>918.000000</td>\n",
       "      <td>1032.000000</td>\n",
       "    </tr>\n",
       "    <tr>\n",
       "      <th>mean</th>\n",
       "      <td>1.299065</td>\n",
       "      <td>0.135204</td>\n",
       "      <td>74.055225</td>\n",
       "      <td>1.525064</td>\n",
       "      <td>30.188278</td>\n",
       "      <td>0.717927</td>\n",
       "      <td>0.451147</td>\n",
       "      <td>0.085811</td>\n",
       "      <td>0.421410</td>\n",
       "      <td>0.338997</td>\n",
       "      <td>...</td>\n",
       "      <td>3.575010</td>\n",
       "      <td>29.539939</td>\n",
       "      <td>32.864327</td>\n",
       "      <td>89.903812</td>\n",
       "      <td>15.952129</td>\n",
       "      <td>10.712948</td>\n",
       "      <td>241.504323</td>\n",
       "      <td>80.113544</td>\n",
       "      <td>0.405569</td>\n",
       "      <td>12.233024</td>\n",
       "    </tr>\n",
       "    <tr>\n",
       "      <th>std</th>\n",
       "      <td>0.458043</td>\n",
       "      <td>0.342087</td>\n",
       "      <td>13.434061</td>\n",
       "      <td>0.499584</td>\n",
       "      <td>9.325997</td>\n",
       "      <td>0.450200</td>\n",
       "      <td>0.497819</td>\n",
       "      <td>0.280204</td>\n",
       "      <td>0.493995</td>\n",
       "      <td>0.473570</td>\n",
       "      <td>...</td>\n",
       "      <td>0.626835</td>\n",
       "      <td>2.619054</td>\n",
       "      <td>1.402302</td>\n",
       "      <td>6.532629</td>\n",
       "      <td>2.131643</td>\n",
       "      <td>5.229402</td>\n",
       "      <td>113.120623</td>\n",
       "      <td>11.133243</td>\n",
       "      <td>0.465007</td>\n",
       "      <td>8.632807</td>\n",
       "    </tr>\n",
       "    <tr>\n",
       "      <th>min</th>\n",
       "      <td>1.000000</td>\n",
       "      <td>0.000000</td>\n",
       "      <td>19.000000</td>\n",
       "      <td>1.000000</td>\n",
       "      <td>13.346801</td>\n",
       "      <td>0.000000</td>\n",
       "      <td>0.000000</td>\n",
       "      <td>0.000000</td>\n",
       "      <td>0.000000</td>\n",
       "      <td>0.000000</td>\n",
       "      <td>...</td>\n",
       "      <td>2.030000</td>\n",
       "      <td>18.125000</td>\n",
       "      <td>27.825000</td>\n",
       "      <td>62.600000</td>\n",
       "      <td>12.088889</td>\n",
       "      <td>0.100000</td>\n",
       "      <td>9.571429</td>\n",
       "      <td>5.000000</td>\n",
       "      <td>0.100000</td>\n",
       "      <td>0.966667</td>\n",
       "    </tr>\n",
       "    <tr>\n",
       "      <th>25%</th>\n",
       "      <td>1.000000</td>\n",
       "      <td>0.000000</td>\n",
       "      <td>65.000000</td>\n",
       "      <td>1.000000</td>\n",
       "      <td>24.326461</td>\n",
       "      <td>0.000000</td>\n",
       "      <td>0.000000</td>\n",
       "      <td>0.000000</td>\n",
       "      <td>0.000000</td>\n",
       "      <td>0.000000</td>\n",
       "      <td>...</td>\n",
       "      <td>3.120000</td>\n",
       "      <td>28.250000</td>\n",
       "      <td>32.011111</td>\n",
       "      <td>86.250000</td>\n",
       "      <td>14.460000</td>\n",
       "      <td>7.440000</td>\n",
       "      <td>168.909091</td>\n",
       "      <td>74.775000</td>\n",
       "      <td>0.200000</td>\n",
       "      <td>6.650000</td>\n",
       "    </tr>\n",
       "    <tr>\n",
       "      <th>50%</th>\n",
       "      <td>1.000000</td>\n",
       "      <td>0.000000</td>\n",
       "      <td>77.000000</td>\n",
       "      <td>2.000000</td>\n",
       "      <td>28.312474</td>\n",
       "      <td>1.000000</td>\n",
       "      <td>0.000000</td>\n",
       "      <td>0.000000</td>\n",
       "      <td>0.000000</td>\n",
       "      <td>0.000000</td>\n",
       "      <td>...</td>\n",
       "      <td>3.490000</td>\n",
       "      <td>29.750000</td>\n",
       "      <td>32.985714</td>\n",
       "      <td>90.000000</td>\n",
       "      <td>15.506250</td>\n",
       "      <td>9.680000</td>\n",
       "      <td>222.666667</td>\n",
       "      <td>82.466667</td>\n",
       "      <td>0.300000</td>\n",
       "      <td>10.475000</td>\n",
       "    </tr>\n",
       "    <tr>\n",
       "      <th>75%</th>\n",
       "      <td>2.000000</td>\n",
       "      <td>0.000000</td>\n",
       "      <td>85.000000</td>\n",
       "      <td>2.000000</td>\n",
       "      <td>33.633509</td>\n",
       "      <td>1.000000</td>\n",
       "      <td>1.000000</td>\n",
       "      <td>0.000000</td>\n",
       "      <td>1.000000</td>\n",
       "      <td>1.000000</td>\n",
       "      <td>...</td>\n",
       "      <td>3.900000</td>\n",
       "      <td>31.240000</td>\n",
       "      <td>33.825000</td>\n",
       "      <td>93.857143</td>\n",
       "      <td>16.937500</td>\n",
       "      <td>12.740000</td>\n",
       "      <td>304.250000</td>\n",
       "      <td>87.450000</td>\n",
       "      <td>0.500000</td>\n",
       "      <td>15.462500</td>\n",
       "    </tr>\n",
       "    <tr>\n",
       "      <th>max</th>\n",
       "      <td>2.000000</td>\n",
       "      <td>1.000000</td>\n",
       "      <td>99.000000</td>\n",
       "      <td>2.000000</td>\n",
       "      <td>104.970366</td>\n",
       "      <td>1.000000</td>\n",
       "      <td>1.000000</td>\n",
       "      <td>1.000000</td>\n",
       "      <td>1.000000</td>\n",
       "      <td>1.000000</td>\n",
       "      <td>...</td>\n",
       "      <td>6.575000</td>\n",
       "      <td>40.314286</td>\n",
       "      <td>37.011111</td>\n",
       "      <td>116.714286</td>\n",
       "      <td>29.050000</td>\n",
       "      <td>64.750000</td>\n",
       "      <td>1028.200000</td>\n",
       "      <td>98.000000</td>\n",
       "      <td>8.800000</td>\n",
       "      <td>83.500000</td>\n",
       "    </tr>\n",
       "  </tbody>\n",
       "</table>\n",
       "<p>8 rows × 32 columns</p>\n",
       "</div>"
      ],
      "text/plain": [
       "             group      outcome          age      gendera         BMI  \\\n",
       "count  1177.000000  1176.000000  1177.000000  1177.000000  962.000000   \n",
       "mean      1.299065     0.135204    74.055225     1.525064   30.188278   \n",
       "std       0.458043     0.342087    13.434061     0.499584    9.325997   \n",
       "min       1.000000     0.000000    19.000000     1.000000   13.346801   \n",
       "25%       1.000000     0.000000    65.000000     1.000000   24.326461   \n",
       "50%       1.000000     0.000000    77.000000     2.000000   28.312474   \n",
       "75%       2.000000     0.000000    85.000000     2.000000   33.633509   \n",
       "max       2.000000     1.000000    99.000000     2.000000  104.970366   \n",
       "\n",
       "       hypertensive  atrialfibrillation  CHD with no MI     diabetes  \\\n",
       "count   1177.000000         1177.000000     1177.000000  1177.000000   \n",
       "mean       0.717927            0.451147        0.085811     0.421410   \n",
       "std        0.450200            0.497819        0.280204     0.493995   \n",
       "min        0.000000            0.000000        0.000000     0.000000   \n",
       "25%        0.000000            0.000000        0.000000     0.000000   \n",
       "50%        1.000000            0.000000        0.000000     0.000000   \n",
       "75%        1.000000            1.000000        0.000000     1.000000   \n",
       "max        1.000000            1.000000        1.000000     1.000000   \n",
       "\n",
       "       deficiencyanemias  ...          RBC          MCH         MCHC  \\\n",
       "count        1177.000000  ...  1177.000000  1177.000000  1177.000000   \n",
       "mean            0.338997  ...     3.575010    29.539939    32.864327   \n",
       "std             0.473570  ...     0.626835     2.619054     1.402302   \n",
       "min             0.000000  ...     2.030000    18.125000    27.825000   \n",
       "25%             0.000000  ...     3.120000    28.250000    32.011111   \n",
       "50%             0.000000  ...     3.490000    29.750000    32.985714   \n",
       "75%             1.000000  ...     3.900000    31.240000    33.825000   \n",
       "max             1.000000  ...     6.575000    40.314286    37.011111   \n",
       "\n",
       "               MCV          RDW    Leucocyte    Platelets  Neutrophils  \\\n",
       "count  1177.000000  1177.000000  1177.000000  1177.000000  1033.000000   \n",
       "mean     89.903812    15.952129    10.712948   241.504323    80.113544   \n",
       "std       6.532629     2.131643     5.229402   113.120623    11.133243   \n",
       "min      62.600000    12.088889     0.100000     9.571429     5.000000   \n",
       "25%      86.250000    14.460000     7.440000   168.909091    74.775000   \n",
       "50%      90.000000    15.506250     9.680000   222.666667    82.466667   \n",
       "75%      93.857143    16.937500    12.740000   304.250000    87.450000   \n",
       "max     116.714286    29.050000    64.750000  1028.200000    98.000000   \n",
       "\n",
       "        Basophils   Lymphocyte  \n",
       "count  918.000000  1032.000000  \n",
       "mean     0.405569    12.233024  \n",
       "std      0.465007     8.632807  \n",
       "min      0.100000     0.966667  \n",
       "25%      0.200000     6.650000  \n",
       "50%      0.300000    10.475000  \n",
       "75%      0.500000    15.462500  \n",
       "max      8.800000    83.500000  \n",
       "\n",
       "[8 rows x 32 columns]"
      ]
     },
     "execution_count": 17,
     "metadata": {},
     "output_type": "execute_result"
    }
   ],
   "source": [
    "df.describe()"
   ]
  },
  {
   "cell_type": "code",
   "execution_count": 18,
   "metadata": {},
   "outputs": [
    {
     "data": {
      "text/plain": [
       "0    681\n",
       "1    496\n",
       "Name: diabetes, dtype: int64"
      ]
     },
     "execution_count": 18,
     "metadata": {},
     "output_type": "execute_result"
    }
   ],
   "source": [
    "df.diabetes.value_counts()"
   ]
  },
  {
   "cell_type": "code",
   "execution_count": 19,
   "metadata": {},
   "outputs": [],
   "source": [
    "df = df.fillna(df.mean())"
   ]
  },
  {
   "cell_type": "code",
   "execution_count": 20,
   "metadata": {},
   "outputs": [
    {
     "data": {
      "text/plain": [
       "group                       0\n",
       "outcome                     0\n",
       "age                         0\n",
       "gendera                     0\n",
       "BMI                         0\n",
       "hypertensive                0\n",
       "atrialfibrillation          0\n",
       "CHD with no MI              0\n",
       "diabetes                    0\n",
       "deficiencyanemias           0\n",
       "depression                  0\n",
       "Hyperlipemia                0\n",
       "Renal failure               0\n",
       "COPD                        0\n",
       "heart rate                  0\n",
       "Systolic blood pressure     0\n",
       "Diastolic blood pressure    0\n",
       "Respiratory rate            0\n",
       "temperature                 0\n",
       "SP O2                       0\n",
       "Urine output                0\n",
       "hematocrit                  0\n",
       "RBC                         0\n",
       "MCH                         0\n",
       "MCHC                        0\n",
       "MCV                         0\n",
       "RDW                         0\n",
       "Leucocyte                   0\n",
       "Platelets                   0\n",
       "Neutrophils                 0\n",
       "Basophils                   0\n",
       "Lymphocyte                  0\n",
       "dtype: int64"
      ]
     },
     "execution_count": 20,
     "metadata": {},
     "output_type": "execute_result"
    }
   ],
   "source": [
    "df.isnull().sum()"
   ]
  },
  {
   "attachments": {},
   "cell_type": "markdown",
   "metadata": {},
   "source": [
    "## La variable diabetes est variable cible\n"
   ]
  },
  {
   "cell_type": "code",
   "execution_count": 21,
   "metadata": {},
   "outputs": [
    {
     "name": "stdout",
     "output_type": "stream",
     "text": [
      "(1177,)\n",
      "(1177, 31)\n"
     ]
    }
   ],
   "source": [
    "target = df['diabetes']\n",
    "features = df.drop('diabetes', axis= 1)\n",
    "print(target.shape)\n",
    "print(features.shape)"
   ]
  },
  {
   "attachments": {},
   "cell_type": "markdown",
   "metadata": {},
   "source": [
    "### Standardisation"
   ]
  },
  {
   "cell_type": "code",
   "execution_count": 22,
   "metadata": {},
   "outputs": [],
   "source": [
    "x = scale(features)"
   ]
  },
  {
   "attachments": {},
   "cell_type": "markdown",
   "metadata": {},
   "source": [
    "## Determination des variables pertinentes"
   ]
  },
  {
   "attachments": {},
   "cell_type": "markdown",
   "metadata": {},
   "source": [
    "### Analyse en composantes principales (PCA) : \n",
    "\n",
    "Cette méthode utilise des techniques de réduction de dimension pour identifier les variables les plus importantes."
   ]
  },
  {
   "cell_type": "code",
   "execution_count": 23,
   "metadata": {},
   "outputs": [
    {
     "data": {
      "text/html": [
       "<style>#sk-container-id-1 {color: black;background-color: white;}#sk-container-id-1 pre{padding: 0;}#sk-container-id-1 div.sk-toggleable {background-color: white;}#sk-container-id-1 label.sk-toggleable__label {cursor: pointer;display: block;width: 100%;margin-bottom: 0;padding: 0.3em;box-sizing: border-box;text-align: center;}#sk-container-id-1 label.sk-toggleable__label-arrow:before {content: \"▸\";float: left;margin-right: 0.25em;color: #696969;}#sk-container-id-1 label.sk-toggleable__label-arrow:hover:before {color: black;}#sk-container-id-1 div.sk-estimator:hover label.sk-toggleable__label-arrow:before {color: black;}#sk-container-id-1 div.sk-toggleable__content {max-height: 0;max-width: 0;overflow: hidden;text-align: left;background-color: #f0f8ff;}#sk-container-id-1 div.sk-toggleable__content pre {margin: 0.2em;color: black;border-radius: 0.25em;background-color: #f0f8ff;}#sk-container-id-1 input.sk-toggleable__control:checked~div.sk-toggleable__content {max-height: 200px;max-width: 100%;overflow: auto;}#sk-container-id-1 input.sk-toggleable__control:checked~label.sk-toggleable__label-arrow:before {content: \"▾\";}#sk-container-id-1 div.sk-estimator input.sk-toggleable__control:checked~label.sk-toggleable__label {background-color: #d4ebff;}#sk-container-id-1 div.sk-label input.sk-toggleable__control:checked~label.sk-toggleable__label {background-color: #d4ebff;}#sk-container-id-1 input.sk-hidden--visually {border: 0;clip: rect(1px 1px 1px 1px);clip: rect(1px, 1px, 1px, 1px);height: 1px;margin: -1px;overflow: hidden;padding: 0;position: absolute;width: 1px;}#sk-container-id-1 div.sk-estimator {font-family: monospace;background-color: #f0f8ff;border: 1px dotted black;border-radius: 0.25em;box-sizing: border-box;margin-bottom: 0.5em;}#sk-container-id-1 div.sk-estimator:hover {background-color: #d4ebff;}#sk-container-id-1 div.sk-parallel-item::after {content: \"\";width: 100%;border-bottom: 1px solid gray;flex-grow: 1;}#sk-container-id-1 div.sk-label:hover label.sk-toggleable__label {background-color: #d4ebff;}#sk-container-id-1 div.sk-serial::before {content: \"\";position: absolute;border-left: 1px solid gray;box-sizing: border-box;top: 0;bottom: 0;left: 50%;z-index: 0;}#sk-container-id-1 div.sk-serial {display: flex;flex-direction: column;align-items: center;background-color: white;padding-right: 0.2em;padding-left: 0.2em;position: relative;}#sk-container-id-1 div.sk-item {position: relative;z-index: 1;}#sk-container-id-1 div.sk-parallel {display: flex;align-items: stretch;justify-content: center;background-color: white;position: relative;}#sk-container-id-1 div.sk-item::before, #sk-container-id-1 div.sk-parallel-item::before {content: \"\";position: absolute;border-left: 1px solid gray;box-sizing: border-box;top: 0;bottom: 0;left: 50%;z-index: -1;}#sk-container-id-1 div.sk-parallel-item {display: flex;flex-direction: column;z-index: 1;position: relative;background-color: white;}#sk-container-id-1 div.sk-parallel-item:first-child::after {align-self: flex-end;width: 50%;}#sk-container-id-1 div.sk-parallel-item:last-child::after {align-self: flex-start;width: 50%;}#sk-container-id-1 div.sk-parallel-item:only-child::after {width: 0;}#sk-container-id-1 div.sk-dashed-wrapped {border: 1px dashed gray;margin: 0 0.4em 0.5em 0.4em;box-sizing: border-box;padding-bottom: 0.4em;background-color: white;}#sk-container-id-1 div.sk-label label {font-family: monospace;font-weight: bold;display: inline-block;line-height: 1.2em;}#sk-container-id-1 div.sk-label-container {text-align: center;}#sk-container-id-1 div.sk-container {/* jupyter's `normalize.less` sets `[hidden] { display: none; }` but bootstrap.min.css set `[hidden] { display: none !important; }` so we also need the `!important` here to be able to override the default hidden behavior on the sphinx rendered scikit-learn.org. See: https://github.com/scikit-learn/scikit-learn/issues/21755 */display: inline-block !important;position: relative;}#sk-container-id-1 div.sk-text-repr-fallback {display: none;}</style><div id=\"sk-container-id-1\" class=\"sk-top-container\"><div class=\"sk-text-repr-fallback\"><pre>PCA(n_components=31)</pre><b>In a Jupyter environment, please rerun this cell to show the HTML representation or trust the notebook. <br />On GitHub, the HTML representation is unable to render, please try loading this page with nbviewer.org.</b></div><div class=\"sk-container\" hidden><div class=\"sk-item\"><div class=\"sk-estimator sk-toggleable\"><input class=\"sk-toggleable__control sk-hidden--visually\" id=\"sk-estimator-id-1\" type=\"checkbox\" checked><label for=\"sk-estimator-id-1\" class=\"sk-toggleable__label sk-toggleable__label-arrow\">PCA</label><div class=\"sk-toggleable__content\"><pre>PCA(n_components=31)</pre></div></div></div></div></div>"
      ],
      "text/plain": [
       "PCA(n_components=31)"
      ]
     },
     "execution_count": 23,
     "metadata": {},
     "output_type": "execute_result"
    }
   ],
   "source": [
    "# Appelons le modèle PCA\n",
    "pca = PCA(n_components=31)\n",
    "\n",
    "# Effectuons la transformation\n",
    "pca.fit(x)"
   ]
  },
  {
   "cell_type": "code",
   "execution_count": 24,
   "metadata": {},
   "outputs": [],
   "source": [
    "score = pca.transform(x)"
   ]
  },
  {
   "cell_type": "code",
   "execution_count": 25,
   "metadata": {},
   "outputs": [
    {
     "data": {
      "text/plain": [
       "((1177, 31), (1177, 31))"
      ]
     },
     "execution_count": 25,
     "metadata": {},
     "output_type": "execute_result"
    }
   ],
   "source": [
    "score.shape, x.shape"
   ]
  },
  {
   "cell_type": "code",
   "execution_count": 26,
   "metadata": {},
   "outputs": [],
   "source": [
    "score_tt = pd.DataFrame(score, columns= ('group', 'outcome', 'age', 'gendera', 'BMI', 'hypertensive',\n",
    "       'atrialfibrillation', 'CHD with no MI', 'deficiencyanemias',\n",
    "       'depression', 'Hyperlipemia', 'Renal failure', 'COPD', 'heart rate',\n",
    "       'Systolic blood pressure', 'Diastolic blood pressure',\n",
    "       'Respiratory rate', 'temperature', 'SP O2', 'Urine output',\n",
    "       'hematocrit', 'RBC', 'MCH', 'MCHC', 'MCV', 'RDW', 'Leucocyte',\n",
    "       'Platelets', 'Neutrophils', 'Basophils', 'Lymphocyte'))"
   ]
  },
  {
   "cell_type": "code",
   "execution_count": 27,
   "metadata": {},
   "outputs": [
    {
     "data": {
      "text/html": [
       "<div>\n",
       "<style scoped>\n",
       "    .dataframe tbody tr th:only-of-type {\n",
       "        vertical-align: middle;\n",
       "    }\n",
       "\n",
       "    .dataframe tbody tr th {\n",
       "        vertical-align: top;\n",
       "    }\n",
       "\n",
       "    .dataframe thead th {\n",
       "        text-align: right;\n",
       "    }\n",
       "</style>\n",
       "<table border=\"1\" class=\"dataframe\">\n",
       "  <thead>\n",
       "    <tr style=\"text-align: right;\">\n",
       "      <th></th>\n",
       "      <th>group</th>\n",
       "      <th>outcome</th>\n",
       "      <th>age</th>\n",
       "      <th>gendera</th>\n",
       "      <th>BMI</th>\n",
       "      <th>hypertensive</th>\n",
       "      <th>atrialfibrillation</th>\n",
       "      <th>CHD with no MI</th>\n",
       "      <th>deficiencyanemias</th>\n",
       "      <th>depression</th>\n",
       "      <th>...</th>\n",
       "      <th>RBC</th>\n",
       "      <th>MCH</th>\n",
       "      <th>MCHC</th>\n",
       "      <th>MCV</th>\n",
       "      <th>RDW</th>\n",
       "      <th>Leucocyte</th>\n",
       "      <th>Platelets</th>\n",
       "      <th>Neutrophils</th>\n",
       "      <th>Basophils</th>\n",
       "      <th>Lymphocyte</th>\n",
       "    </tr>\n",
       "  </thead>\n",
       "  <tbody>\n",
       "    <tr>\n",
       "      <th>0</th>\n",
       "      <td>-0.370480</td>\n",
       "      <td>1.111545</td>\n",
       "      <td>2.307510</td>\n",
       "      <td>-0.173236</td>\n",
       "      <td>-1.995819</td>\n",
       "      <td>-1.121672</td>\n",
       "      <td>0.886850</td>\n",
       "      <td>0.784919</td>\n",
       "      <td>-0.637872</td>\n",
       "      <td>-0.624888</td>\n",
       "      <td>...</td>\n",
       "      <td>-0.545355</td>\n",
       "      <td>-1.768869</td>\n",
       "      <td>-0.414521</td>\n",
       "      <td>0.603927</td>\n",
       "      <td>-1.100783</td>\n",
       "      <td>-0.231604</td>\n",
       "      <td>-0.116058</td>\n",
       "      <td>0.340251</td>\n",
       "      <td>0.024686</td>\n",
       "      <td>-0.028773</td>\n",
       "    </tr>\n",
       "    <tr>\n",
       "      <th>1</th>\n",
       "      <td>-0.129538</td>\n",
       "      <td>0.617877</td>\n",
       "      <td>-0.591064</td>\n",
       "      <td>1.825987</td>\n",
       "      <td>-0.611327</td>\n",
       "      <td>-0.403353</td>\n",
       "      <td>-0.331819</td>\n",
       "      <td>2.601552</td>\n",
       "      <td>0.418729</td>\n",
       "      <td>1.025026</td>\n",
       "      <td>...</td>\n",
       "      <td>-0.317454</td>\n",
       "      <td>-1.446164</td>\n",
       "      <td>0.192498</td>\n",
       "      <td>0.207167</td>\n",
       "      <td>-0.734751</td>\n",
       "      <td>0.442759</td>\n",
       "      <td>0.081321</td>\n",
       "      <td>-0.019560</td>\n",
       "      <td>0.050087</td>\n",
       "      <td>-0.031619</td>\n",
       "    </tr>\n",
       "    <tr>\n",
       "      <th>2</th>\n",
       "      <td>-2.048407</td>\n",
       "      <td>2.746875</td>\n",
       "      <td>1.758119</td>\n",
       "      <td>1.114772</td>\n",
       "      <td>1.212272</td>\n",
       "      <td>-1.372081</td>\n",
       "      <td>0.920657</td>\n",
       "      <td>3.298247</td>\n",
       "      <td>-0.058995</td>\n",
       "      <td>0.174968</td>\n",
       "      <td>...</td>\n",
       "      <td>0.901777</td>\n",
       "      <td>-0.590465</td>\n",
       "      <td>-1.728989</td>\n",
       "      <td>-1.438865</td>\n",
       "      <td>-0.079368</td>\n",
       "      <td>-1.012312</td>\n",
       "      <td>0.004175</td>\n",
       "      <td>-0.382652</td>\n",
       "      <td>0.268592</td>\n",
       "      <td>-0.127453</td>\n",
       "    </tr>\n",
       "    <tr>\n",
       "      <th>3</th>\n",
       "      <td>6.139730</td>\n",
       "      <td>0.563772</td>\n",
       "      <td>1.513668</td>\n",
       "      <td>1.298444</td>\n",
       "      <td>-1.572243</td>\n",
       "      <td>-4.379569</td>\n",
       "      <td>-1.171832</td>\n",
       "      <td>0.490995</td>\n",
       "      <td>-1.252534</td>\n",
       "      <td>0.913242</td>\n",
       "      <td>...</td>\n",
       "      <td>1.460129</td>\n",
       "      <td>-0.161625</td>\n",
       "      <td>1.452753</td>\n",
       "      <td>0.247954</td>\n",
       "      <td>-1.261452</td>\n",
       "      <td>0.346299</td>\n",
       "      <td>-0.456322</td>\n",
       "      <td>-0.239419</td>\n",
       "      <td>-0.015846</td>\n",
       "      <td>0.030557</td>\n",
       "    </tr>\n",
       "    <tr>\n",
       "      <th>4</th>\n",
       "      <td>-0.412973</td>\n",
       "      <td>1.368614</td>\n",
       "      <td>0.685093</td>\n",
       "      <td>-0.100699</td>\n",
       "      <td>-2.691873</td>\n",
       "      <td>-0.272053</td>\n",
       "      <td>0.266210</td>\n",
       "      <td>1.455221</td>\n",
       "      <td>-0.983071</td>\n",
       "      <td>1.093577</td>\n",
       "      <td>...</td>\n",
       "      <td>1.413294</td>\n",
       "      <td>-0.771562</td>\n",
       "      <td>0.607716</td>\n",
       "      <td>0.199269</td>\n",
       "      <td>0.915437</td>\n",
       "      <td>-0.748622</td>\n",
       "      <td>0.246910</td>\n",
       "      <td>0.117523</td>\n",
       "      <td>-0.021168</td>\n",
       "      <td>0.025210</td>\n",
       "    </tr>\n",
       "  </tbody>\n",
       "</table>\n",
       "<p>5 rows × 31 columns</p>\n",
       "</div>"
      ],
      "text/plain": [
       "      group   outcome       age   gendera       BMI  hypertensive  \\\n",
       "0 -0.370480  1.111545  2.307510 -0.173236 -1.995819     -1.121672   \n",
       "1 -0.129538  0.617877 -0.591064  1.825987 -0.611327     -0.403353   \n",
       "2 -2.048407  2.746875  1.758119  1.114772  1.212272     -1.372081   \n",
       "3  6.139730  0.563772  1.513668  1.298444 -1.572243     -4.379569   \n",
       "4 -0.412973  1.368614  0.685093 -0.100699 -2.691873     -0.272053   \n",
       "\n",
       "   atrialfibrillation  CHD with no MI  deficiencyanemias  depression  ...  \\\n",
       "0            0.886850        0.784919          -0.637872   -0.624888  ...   \n",
       "1           -0.331819        2.601552           0.418729    1.025026  ...   \n",
       "2            0.920657        3.298247          -0.058995    0.174968  ...   \n",
       "3           -1.171832        0.490995          -1.252534    0.913242  ...   \n",
       "4            0.266210        1.455221          -0.983071    1.093577  ...   \n",
       "\n",
       "        RBC       MCH      MCHC       MCV       RDW  Leucocyte  Platelets  \\\n",
       "0 -0.545355 -1.768869 -0.414521  0.603927 -1.100783  -0.231604  -0.116058   \n",
       "1 -0.317454 -1.446164  0.192498  0.207167 -0.734751   0.442759   0.081321   \n",
       "2  0.901777 -0.590465 -1.728989 -1.438865 -0.079368  -1.012312   0.004175   \n",
       "3  1.460129 -0.161625  1.452753  0.247954 -1.261452   0.346299  -0.456322   \n",
       "4  1.413294 -0.771562  0.607716  0.199269  0.915437  -0.748622   0.246910   \n",
       "\n",
       "   Neutrophils  Basophils  Lymphocyte  \n",
       "0     0.340251   0.024686   -0.028773  \n",
       "1    -0.019560   0.050087   -0.031619  \n",
       "2    -0.382652   0.268592   -0.127453  \n",
       "3    -0.239419  -0.015846    0.030557  \n",
       "4     0.117523  -0.021168    0.025210  \n",
       "\n",
       "[5 rows x 31 columns]"
      ]
     },
     "execution_count": 27,
     "metadata": {},
     "output_type": "execute_result"
    }
   ],
   "source": [
    "score_tt.head()"
   ]
  },
  {
   "cell_type": "code",
   "execution_count": 28,
   "metadata": {},
   "outputs": [
    {
     "name": "stdout",
     "output_type": "stream",
     "text": [
      "Contribution de chaque composante principale :  [9.71310828e-02 8.58655448e-02 7.66742852e-02 6.33262865e-02\n",
      " 5.72818435e-02 4.32037180e-02 4.02620284e-02 3.92609613e-02\n",
      " 3.81002498e-02 3.56653830e-02 3.34366898e-02 3.20288440e-02\n",
      " 3.12970915e-02 3.01133847e-02 2.95115589e-02 2.77677471e-02\n",
      " 2.61123011e-02 2.53929682e-02 2.37612278e-02 2.28877288e-02\n",
      " 2.14995807e-02 2.13183477e-02 1.97946871e-02 1.81645003e-02\n",
      " 1.75727936e-02 1.50600135e-02 1.43001437e-02 8.95042837e-03\n",
      " 4.04334589e-03 1.89396886e-04 2.58369060e-05]\n"
     ]
    }
   ],
   "source": [
    "# Afficher la contribution de chaque composante principale à la variance totale\n",
    "print(\"Contribution de chaque composante principale : \", pca.explained_variance_ratio_)"
   ]
  },
  {
   "cell_type": "code",
   "execution_count": 29,
   "metadata": {},
   "outputs": [
    {
     "name": "stdout",
     "output_type": "stream",
     "text": [
      "Nombre de composantes nécessaires pour expliquer  0.9  de la variance :  22\n"
     ]
    }
   ],
   "source": [
    "# Afficher le nombre de composantes nécessaires pour expliquer une certaine proportion de la variance\n",
    "proportion_expliquee = 0.9\n",
    "composantes_necessaires = np.where(np.cumsum(pca.explained_variance_ratio_) > proportion_expliquee)[0][0] + 1\n",
    "print(\"Nombre de composantes nécessaires pour expliquer \", proportion_expliquee, \" de la variance : \", composantes_necessaires)"
   ]
  },
  {
   "cell_type": "code",
   "execution_count": 30,
   "metadata": {},
   "outputs": [],
   "source": [
    "explained_variance = pca.explained_variance_ratio_\n",
    "explained_variance = np.insert(explained_variance, 0, 0)\n",
    "cumulative_variance = np.cumsum(np.round(explained_variance, decimals=3))"
   ]
  },
  {
   "cell_type": "code",
   "execution_count": 31,
   "metadata": {},
   "outputs": [],
   "source": [
    "# Conbinaison des 2 dataframes\n",
    "pc_df = pd.DataFrame(['','group', 'outcome', 'age', 'gendera', 'BMI', 'hypertensive',\n",
    "       'atrialfibrillation', 'CHD with no MI', 'deficiencyanemias',\n",
    "       'depression', 'Hyperlipemia', 'Renal failure', 'COPD', 'heart rate',\n",
    "       'Systolic blood pressure', 'Diastolic blood pressure',\n",
    "       'Respiratory rate', 'temperature', 'SP O2', 'Urine output',\n",
    "       'hematocrit', 'RBC', 'MCH', 'MCHC', 'MCV', 'RDW', 'Leucocyte',\n",
    "       'Platelets', 'Neutrophils', 'Basophils', 'Lymphocyte'], columns=['PC'])\n",
    "       \n",
    "explained_variance_df = pd.DataFrame(explained_variance, columns=['Explained Variance'])\n",
    "cumulative_variance_df = pd.DataFrame(cumulative_variance, columns=['Cumulative variance'])"
   ]
  },
  {
   "cell_type": "code",
   "execution_count": 32,
   "metadata": {},
   "outputs": [
    {
     "data": {
      "text/html": [
       "<div>\n",
       "<style scoped>\n",
       "    .dataframe tbody tr th:only-of-type {\n",
       "        vertical-align: middle;\n",
       "    }\n",
       "\n",
       "    .dataframe tbody tr th {\n",
       "        vertical-align: top;\n",
       "    }\n",
       "\n",
       "    .dataframe thead th {\n",
       "        text-align: right;\n",
       "    }\n",
       "</style>\n",
       "<table border=\"1\" class=\"dataframe\">\n",
       "  <thead>\n",
       "    <tr style=\"text-align: right;\">\n",
       "      <th></th>\n",
       "      <th>PC</th>\n",
       "      <th>Explained Variance</th>\n",
       "      <th>Cumulative variance</th>\n",
       "    </tr>\n",
       "  </thead>\n",
       "  <tbody>\n",
       "    <tr>\n",
       "      <th>0</th>\n",
       "      <td></td>\n",
       "      <td>0.000000</td>\n",
       "      <td>0.000</td>\n",
       "    </tr>\n",
       "    <tr>\n",
       "      <th>1</th>\n",
       "      <td>group</td>\n",
       "      <td>0.097131</td>\n",
       "      <td>0.097</td>\n",
       "    </tr>\n",
       "    <tr>\n",
       "      <th>2</th>\n",
       "      <td>outcome</td>\n",
       "      <td>0.085866</td>\n",
       "      <td>0.183</td>\n",
       "    </tr>\n",
       "    <tr>\n",
       "      <th>3</th>\n",
       "      <td>age</td>\n",
       "      <td>0.076674</td>\n",
       "      <td>0.260</td>\n",
       "    </tr>\n",
       "    <tr>\n",
       "      <th>4</th>\n",
       "      <td>gendera</td>\n",
       "      <td>0.063326</td>\n",
       "      <td>0.323</td>\n",
       "    </tr>\n",
       "    <tr>\n",
       "      <th>5</th>\n",
       "      <td>BMI</td>\n",
       "      <td>0.057282</td>\n",
       "      <td>0.380</td>\n",
       "    </tr>\n",
       "    <tr>\n",
       "      <th>6</th>\n",
       "      <td>hypertensive</td>\n",
       "      <td>0.043204</td>\n",
       "      <td>0.423</td>\n",
       "    </tr>\n",
       "    <tr>\n",
       "      <th>7</th>\n",
       "      <td>atrialfibrillation</td>\n",
       "      <td>0.040262</td>\n",
       "      <td>0.463</td>\n",
       "    </tr>\n",
       "    <tr>\n",
       "      <th>8</th>\n",
       "      <td>CHD with no MI</td>\n",
       "      <td>0.039261</td>\n",
       "      <td>0.502</td>\n",
       "    </tr>\n",
       "    <tr>\n",
       "      <th>9</th>\n",
       "      <td>deficiencyanemias</td>\n",
       "      <td>0.038100</td>\n",
       "      <td>0.540</td>\n",
       "    </tr>\n",
       "    <tr>\n",
       "      <th>10</th>\n",
       "      <td>depression</td>\n",
       "      <td>0.035665</td>\n",
       "      <td>0.576</td>\n",
       "    </tr>\n",
       "    <tr>\n",
       "      <th>11</th>\n",
       "      <td>Hyperlipemia</td>\n",
       "      <td>0.033437</td>\n",
       "      <td>0.609</td>\n",
       "    </tr>\n",
       "    <tr>\n",
       "      <th>12</th>\n",
       "      <td>Renal failure</td>\n",
       "      <td>0.032029</td>\n",
       "      <td>0.641</td>\n",
       "    </tr>\n",
       "    <tr>\n",
       "      <th>13</th>\n",
       "      <td>COPD</td>\n",
       "      <td>0.031297</td>\n",
       "      <td>0.672</td>\n",
       "    </tr>\n",
       "    <tr>\n",
       "      <th>14</th>\n",
       "      <td>heart rate</td>\n",
       "      <td>0.030113</td>\n",
       "      <td>0.702</td>\n",
       "    </tr>\n",
       "    <tr>\n",
       "      <th>15</th>\n",
       "      <td>Systolic blood pressure</td>\n",
       "      <td>0.029512</td>\n",
       "      <td>0.732</td>\n",
       "    </tr>\n",
       "    <tr>\n",
       "      <th>16</th>\n",
       "      <td>Diastolic blood pressure</td>\n",
       "      <td>0.027768</td>\n",
       "      <td>0.760</td>\n",
       "    </tr>\n",
       "    <tr>\n",
       "      <th>17</th>\n",
       "      <td>Respiratory rate</td>\n",
       "      <td>0.026112</td>\n",
       "      <td>0.786</td>\n",
       "    </tr>\n",
       "    <tr>\n",
       "      <th>18</th>\n",
       "      <td>temperature</td>\n",
       "      <td>0.025393</td>\n",
       "      <td>0.811</td>\n",
       "    </tr>\n",
       "    <tr>\n",
       "      <th>19</th>\n",
       "      <td>SP O2</td>\n",
       "      <td>0.023761</td>\n",
       "      <td>0.835</td>\n",
       "    </tr>\n",
       "    <tr>\n",
       "      <th>20</th>\n",
       "      <td>Urine output</td>\n",
       "      <td>0.022888</td>\n",
       "      <td>0.858</td>\n",
       "    </tr>\n",
       "    <tr>\n",
       "      <th>21</th>\n",
       "      <td>hematocrit</td>\n",
       "      <td>0.021500</td>\n",
       "      <td>0.879</td>\n",
       "    </tr>\n",
       "    <tr>\n",
       "      <th>22</th>\n",
       "      <td>RBC</td>\n",
       "      <td>0.021318</td>\n",
       "      <td>0.900</td>\n",
       "    </tr>\n",
       "    <tr>\n",
       "      <th>23</th>\n",
       "      <td>MCH</td>\n",
       "      <td>0.019795</td>\n",
       "      <td>0.920</td>\n",
       "    </tr>\n",
       "    <tr>\n",
       "      <th>24</th>\n",
       "      <td>MCHC</td>\n",
       "      <td>0.018165</td>\n",
       "      <td>0.938</td>\n",
       "    </tr>\n",
       "    <tr>\n",
       "      <th>25</th>\n",
       "      <td>MCV</td>\n",
       "      <td>0.017573</td>\n",
       "      <td>0.956</td>\n",
       "    </tr>\n",
       "    <tr>\n",
       "      <th>26</th>\n",
       "      <td>RDW</td>\n",
       "      <td>0.015060</td>\n",
       "      <td>0.971</td>\n",
       "    </tr>\n",
       "    <tr>\n",
       "      <th>27</th>\n",
       "      <td>Leucocyte</td>\n",
       "      <td>0.014300</td>\n",
       "      <td>0.985</td>\n",
       "    </tr>\n",
       "    <tr>\n",
       "      <th>28</th>\n",
       "      <td>Platelets</td>\n",
       "      <td>0.008950</td>\n",
       "      <td>0.994</td>\n",
       "    </tr>\n",
       "    <tr>\n",
       "      <th>29</th>\n",
       "      <td>Neutrophils</td>\n",
       "      <td>0.004043</td>\n",
       "      <td>0.998</td>\n",
       "    </tr>\n",
       "    <tr>\n",
       "      <th>30</th>\n",
       "      <td>Basophils</td>\n",
       "      <td>0.000189</td>\n",
       "      <td>0.998</td>\n",
       "    </tr>\n",
       "    <tr>\n",
       "      <th>31</th>\n",
       "      <td>Lymphocyte</td>\n",
       "      <td>0.000026</td>\n",
       "      <td>0.998</td>\n",
       "    </tr>\n",
       "  </tbody>\n",
       "</table>\n",
       "</div>"
      ],
      "text/plain": [
       "                          PC  Explained Variance  Cumulative variance\n",
       "0                                       0.000000                0.000\n",
       "1                      group            0.097131                0.097\n",
       "2                    outcome            0.085866                0.183\n",
       "3                        age            0.076674                0.260\n",
       "4                    gendera            0.063326                0.323\n",
       "5                        BMI            0.057282                0.380\n",
       "6               hypertensive            0.043204                0.423\n",
       "7         atrialfibrillation            0.040262                0.463\n",
       "8             CHD with no MI            0.039261                0.502\n",
       "9          deficiencyanemias            0.038100                0.540\n",
       "10                depression            0.035665                0.576\n",
       "11              Hyperlipemia            0.033437                0.609\n",
       "12             Renal failure            0.032029                0.641\n",
       "13                      COPD            0.031297                0.672\n",
       "14                heart rate            0.030113                0.702\n",
       "15   Systolic blood pressure            0.029512                0.732\n",
       "16  Diastolic blood pressure            0.027768                0.760\n",
       "17          Respiratory rate            0.026112                0.786\n",
       "18               temperature            0.025393                0.811\n",
       "19                     SP O2            0.023761                0.835\n",
       "20              Urine output            0.022888                0.858\n",
       "21                hematocrit            0.021500                0.879\n",
       "22                       RBC            0.021318                0.900\n",
       "23                       MCH            0.019795                0.920\n",
       "24                      MCHC            0.018165                0.938\n",
       "25                       MCV            0.017573                0.956\n",
       "26                       RDW            0.015060                0.971\n",
       "27                 Leucocyte            0.014300                0.985\n",
       "28                 Platelets            0.008950                0.994\n",
       "29               Neutrophils            0.004043                0.998\n",
       "30                 Basophils            0.000189                0.998\n",
       "31                Lymphocyte            0.000026                0.998"
      ]
     },
     "execution_count": 32,
     "metadata": {},
     "output_type": "execute_result"
    }
   ],
   "source": [
    "df_explained_variance = pd.concat([pc_df, explained_variance_df, cumulative_variance_df], axis=1)\n",
    "df_explained_variance"
   ]
  },
  {
   "cell_type": "code",
   "execution_count": 33,
   "metadata": {},
   "outputs": [
    {
     "data": {
      "application/vnd.plotly.v1+json": {
       "config": {
        "plotlyServerURL": "https://plot.ly"
       },
       "data": [
        {
         "alignmentgroup": "True",
         "hovertemplate": "PC=%{x}<br>Explained Variance=%{text}<extra></extra>",
         "legendgroup": "",
         "marker": {
          "color": "#636efa",
          "pattern": {
           "shape": ""
          }
         },
         "name": "",
         "offsetgroup": "",
         "orientation": "v",
         "showlegend": false,
         "text": [
          0,
          0.0971310828387341,
          0.08586554483376824,
          0.07667428522669688,
          0.06332628651562765,
          0.057281843481843626,
          0.043203718005117,
          0.040262028420329644,
          0.03926096126694231,
          0.038100249787737184,
          0.03566538299423824,
          0.03343668982372803,
          0.03202884396233285,
          0.031297091459242414,
          0.030113384716544032,
          0.029511558892515825,
          0.02776774711753974,
          0.026112301131739506,
          0.025392968227606495,
          0.023761227818893386,
          0.02288772882618472,
          0.021499580662780175,
          0.02131834769083612,
          0.019794687115042158,
          0.018164500293948536,
          0.017572793620778134,
          0.015060013523557748,
          0.014300143695167886,
          0.008950428371342994,
          0.004043345887652531,
          0.00018939688554035647,
          0.00002583690599157938
         ],
         "textposition": "outside",
         "texttemplate": "%{text:.3f}",
         "type": "bar",
         "x": [
          "",
          "group",
          "outcome",
          "age",
          "gendera",
          "BMI",
          "hypertensive",
          "atrialfibrillation",
          "CHD with no MI",
          "deficiencyanemias",
          "depression",
          "Hyperlipemia",
          "Renal failure",
          "COPD",
          "heart rate",
          "Systolic blood pressure",
          "Diastolic blood pressure",
          "Respiratory rate",
          "temperature",
          "SP O2",
          "Urine output",
          "hematocrit",
          "RBC",
          "MCH",
          "MCHC",
          "MCV",
          "RDW",
          "Leucocyte",
          "Platelets",
          "Neutrophils",
          "Basophils",
          "Lymphocyte"
         ],
         "xaxis": "x",
         "y": [
          0,
          0.0971310828387341,
          0.08586554483376824,
          0.07667428522669688,
          0.06332628651562765,
          0.057281843481843626,
          0.043203718005117,
          0.040262028420329644,
          0.03926096126694231,
          0.038100249787737184,
          0.03566538299423824,
          0.03343668982372803,
          0.03202884396233285,
          0.031297091459242414,
          0.030113384716544032,
          0.029511558892515825,
          0.02776774711753974,
          0.026112301131739506,
          0.025392968227606495,
          0.023761227818893386,
          0.02288772882618472,
          0.021499580662780175,
          0.02131834769083612,
          0.019794687115042158,
          0.018164500293948536,
          0.017572793620778134,
          0.015060013523557748,
          0.014300143695167886,
          0.008950428371342994,
          0.004043345887652531,
          0.00018939688554035647,
          0.00002583690599157938
         ],
         "yaxis": "y"
        }
       ],
       "layout": {
        "barmode": "relative",
        "height": 600,
        "legend": {
         "tracegroupgap": 0
        },
        "margin": {
         "t": 60
        },
        "template": {
         "data": {
          "bar": [
           {
            "error_x": {
             "color": "#2a3f5f"
            },
            "error_y": {
             "color": "#2a3f5f"
            },
            "marker": {
             "line": {
              "color": "#E5ECF6",
              "width": 0.5
             },
             "pattern": {
              "fillmode": "overlay",
              "size": 10,
              "solidity": 0.2
             }
            },
            "type": "bar"
           }
          ],
          "barpolar": [
           {
            "marker": {
             "line": {
              "color": "#E5ECF6",
              "width": 0.5
             },
             "pattern": {
              "fillmode": "overlay",
              "size": 10,
              "solidity": 0.2
             }
            },
            "type": "barpolar"
           }
          ],
          "carpet": [
           {
            "aaxis": {
             "endlinecolor": "#2a3f5f",
             "gridcolor": "white",
             "linecolor": "white",
             "minorgridcolor": "white",
             "startlinecolor": "#2a3f5f"
            },
            "baxis": {
             "endlinecolor": "#2a3f5f",
             "gridcolor": "white",
             "linecolor": "white",
             "minorgridcolor": "white",
             "startlinecolor": "#2a3f5f"
            },
            "type": "carpet"
           }
          ],
          "choropleth": [
           {
            "colorbar": {
             "outlinewidth": 0,
             "ticks": ""
            },
            "type": "choropleth"
           }
          ],
          "contour": [
           {
            "colorbar": {
             "outlinewidth": 0,
             "ticks": ""
            },
            "colorscale": [
             [
              0,
              "#0d0887"
             ],
             [
              0.1111111111111111,
              "#46039f"
             ],
             [
              0.2222222222222222,
              "#7201a8"
             ],
             [
              0.3333333333333333,
              "#9c179e"
             ],
             [
              0.4444444444444444,
              "#bd3786"
             ],
             [
              0.5555555555555556,
              "#d8576b"
             ],
             [
              0.6666666666666666,
              "#ed7953"
             ],
             [
              0.7777777777777778,
              "#fb9f3a"
             ],
             [
              0.8888888888888888,
              "#fdca26"
             ],
             [
              1,
              "#f0f921"
             ]
            ],
            "type": "contour"
           }
          ],
          "contourcarpet": [
           {
            "colorbar": {
             "outlinewidth": 0,
             "ticks": ""
            },
            "type": "contourcarpet"
           }
          ],
          "heatmap": [
           {
            "colorbar": {
             "outlinewidth": 0,
             "ticks": ""
            },
            "colorscale": [
             [
              0,
              "#0d0887"
             ],
             [
              0.1111111111111111,
              "#46039f"
             ],
             [
              0.2222222222222222,
              "#7201a8"
             ],
             [
              0.3333333333333333,
              "#9c179e"
             ],
             [
              0.4444444444444444,
              "#bd3786"
             ],
             [
              0.5555555555555556,
              "#d8576b"
             ],
             [
              0.6666666666666666,
              "#ed7953"
             ],
             [
              0.7777777777777778,
              "#fb9f3a"
             ],
             [
              0.8888888888888888,
              "#fdca26"
             ],
             [
              1,
              "#f0f921"
             ]
            ],
            "type": "heatmap"
           }
          ],
          "heatmapgl": [
           {
            "colorbar": {
             "outlinewidth": 0,
             "ticks": ""
            },
            "colorscale": [
             [
              0,
              "#0d0887"
             ],
             [
              0.1111111111111111,
              "#46039f"
             ],
             [
              0.2222222222222222,
              "#7201a8"
             ],
             [
              0.3333333333333333,
              "#9c179e"
             ],
             [
              0.4444444444444444,
              "#bd3786"
             ],
             [
              0.5555555555555556,
              "#d8576b"
             ],
             [
              0.6666666666666666,
              "#ed7953"
             ],
             [
              0.7777777777777778,
              "#fb9f3a"
             ],
             [
              0.8888888888888888,
              "#fdca26"
             ],
             [
              1,
              "#f0f921"
             ]
            ],
            "type": "heatmapgl"
           }
          ],
          "histogram": [
           {
            "marker": {
             "pattern": {
              "fillmode": "overlay",
              "size": 10,
              "solidity": 0.2
             }
            },
            "type": "histogram"
           }
          ],
          "histogram2d": [
           {
            "colorbar": {
             "outlinewidth": 0,
             "ticks": ""
            },
            "colorscale": [
             [
              0,
              "#0d0887"
             ],
             [
              0.1111111111111111,
              "#46039f"
             ],
             [
              0.2222222222222222,
              "#7201a8"
             ],
             [
              0.3333333333333333,
              "#9c179e"
             ],
             [
              0.4444444444444444,
              "#bd3786"
             ],
             [
              0.5555555555555556,
              "#d8576b"
             ],
             [
              0.6666666666666666,
              "#ed7953"
             ],
             [
              0.7777777777777778,
              "#fb9f3a"
             ],
             [
              0.8888888888888888,
              "#fdca26"
             ],
             [
              1,
              "#f0f921"
             ]
            ],
            "type": "histogram2d"
           }
          ],
          "histogram2dcontour": [
           {
            "colorbar": {
             "outlinewidth": 0,
             "ticks": ""
            },
            "colorscale": [
             [
              0,
              "#0d0887"
             ],
             [
              0.1111111111111111,
              "#46039f"
             ],
             [
              0.2222222222222222,
              "#7201a8"
             ],
             [
              0.3333333333333333,
              "#9c179e"
             ],
             [
              0.4444444444444444,
              "#bd3786"
             ],
             [
              0.5555555555555556,
              "#d8576b"
             ],
             [
              0.6666666666666666,
              "#ed7953"
             ],
             [
              0.7777777777777778,
              "#fb9f3a"
             ],
             [
              0.8888888888888888,
              "#fdca26"
             ],
             [
              1,
              "#f0f921"
             ]
            ],
            "type": "histogram2dcontour"
           }
          ],
          "mesh3d": [
           {
            "colorbar": {
             "outlinewidth": 0,
             "ticks": ""
            },
            "type": "mesh3d"
           }
          ],
          "parcoords": [
           {
            "line": {
             "colorbar": {
              "outlinewidth": 0,
              "ticks": ""
             }
            },
            "type": "parcoords"
           }
          ],
          "pie": [
           {
            "automargin": true,
            "type": "pie"
           }
          ],
          "scatter": [
           {
            "fillpattern": {
             "fillmode": "overlay",
             "size": 10,
             "solidity": 0.2
            },
            "type": "scatter"
           }
          ],
          "scatter3d": [
           {
            "line": {
             "colorbar": {
              "outlinewidth": 0,
              "ticks": ""
             }
            },
            "marker": {
             "colorbar": {
              "outlinewidth": 0,
              "ticks": ""
             }
            },
            "type": "scatter3d"
           }
          ],
          "scattercarpet": [
           {
            "marker": {
             "colorbar": {
              "outlinewidth": 0,
              "ticks": ""
             }
            },
            "type": "scattercarpet"
           }
          ],
          "scattergeo": [
           {
            "marker": {
             "colorbar": {
              "outlinewidth": 0,
              "ticks": ""
             }
            },
            "type": "scattergeo"
           }
          ],
          "scattergl": [
           {
            "marker": {
             "colorbar": {
              "outlinewidth": 0,
              "ticks": ""
             }
            },
            "type": "scattergl"
           }
          ],
          "scattermapbox": [
           {
            "marker": {
             "colorbar": {
              "outlinewidth": 0,
              "ticks": ""
             }
            },
            "type": "scattermapbox"
           }
          ],
          "scatterpolar": [
           {
            "marker": {
             "colorbar": {
              "outlinewidth": 0,
              "ticks": ""
             }
            },
            "type": "scatterpolar"
           }
          ],
          "scatterpolargl": [
           {
            "marker": {
             "colorbar": {
              "outlinewidth": 0,
              "ticks": ""
             }
            },
            "type": "scatterpolargl"
           }
          ],
          "scatterternary": [
           {
            "marker": {
             "colorbar": {
              "outlinewidth": 0,
              "ticks": ""
             }
            },
            "type": "scatterternary"
           }
          ],
          "surface": [
           {
            "colorbar": {
             "outlinewidth": 0,
             "ticks": ""
            },
            "colorscale": [
             [
              0,
              "#0d0887"
             ],
             [
              0.1111111111111111,
              "#46039f"
             ],
             [
              0.2222222222222222,
              "#7201a8"
             ],
             [
              0.3333333333333333,
              "#9c179e"
             ],
             [
              0.4444444444444444,
              "#bd3786"
             ],
             [
              0.5555555555555556,
              "#d8576b"
             ],
             [
              0.6666666666666666,
              "#ed7953"
             ],
             [
              0.7777777777777778,
              "#fb9f3a"
             ],
             [
              0.8888888888888888,
              "#fdca26"
             ],
             [
              1,
              "#f0f921"
             ]
            ],
            "type": "surface"
           }
          ],
          "table": [
           {
            "cells": {
             "fill": {
              "color": "#EBF0F8"
             },
             "line": {
              "color": "white"
             }
            },
            "header": {
             "fill": {
              "color": "#C8D4E3"
             },
             "line": {
              "color": "white"
             }
            },
            "type": "table"
           }
          ]
         },
         "layout": {
          "annotationdefaults": {
           "arrowcolor": "#2a3f5f",
           "arrowhead": 0,
           "arrowwidth": 1
          },
          "autotypenumbers": "strict",
          "coloraxis": {
           "colorbar": {
            "outlinewidth": 0,
            "ticks": ""
           }
          },
          "colorscale": {
           "diverging": [
            [
             0,
             "#8e0152"
            ],
            [
             0.1,
             "#c51b7d"
            ],
            [
             0.2,
             "#de77ae"
            ],
            [
             0.3,
             "#f1b6da"
            ],
            [
             0.4,
             "#fde0ef"
            ],
            [
             0.5,
             "#f7f7f7"
            ],
            [
             0.6,
             "#e6f5d0"
            ],
            [
             0.7,
             "#b8e186"
            ],
            [
             0.8,
             "#7fbc41"
            ],
            [
             0.9,
             "#4d9221"
            ],
            [
             1,
             "#276419"
            ]
           ],
           "sequential": [
            [
             0,
             "#0d0887"
            ],
            [
             0.1111111111111111,
             "#46039f"
            ],
            [
             0.2222222222222222,
             "#7201a8"
            ],
            [
             0.3333333333333333,
             "#9c179e"
            ],
            [
             0.4444444444444444,
             "#bd3786"
            ],
            [
             0.5555555555555556,
             "#d8576b"
            ],
            [
             0.6666666666666666,
             "#ed7953"
            ],
            [
             0.7777777777777778,
             "#fb9f3a"
            ],
            [
             0.8888888888888888,
             "#fdca26"
            ],
            [
             1,
             "#f0f921"
            ]
           ],
           "sequentialminus": [
            [
             0,
             "#0d0887"
            ],
            [
             0.1111111111111111,
             "#46039f"
            ],
            [
             0.2222222222222222,
             "#7201a8"
            ],
            [
             0.3333333333333333,
             "#9c179e"
            ],
            [
             0.4444444444444444,
             "#bd3786"
            ],
            [
             0.5555555555555556,
             "#d8576b"
            ],
            [
             0.6666666666666666,
             "#ed7953"
            ],
            [
             0.7777777777777778,
             "#fb9f3a"
            ],
            [
             0.8888888888888888,
             "#fdca26"
            ],
            [
             1,
             "#f0f921"
            ]
           ]
          },
          "colorway": [
           "#636efa",
           "#EF553B",
           "#00cc96",
           "#ab63fa",
           "#FFA15A",
           "#19d3f3",
           "#FF6692",
           "#B6E880",
           "#FF97FF",
           "#FECB52"
          ],
          "font": {
           "color": "#2a3f5f"
          },
          "geo": {
           "bgcolor": "white",
           "lakecolor": "white",
           "landcolor": "#E5ECF6",
           "showlakes": true,
           "showland": true,
           "subunitcolor": "white"
          },
          "hoverlabel": {
           "align": "left"
          },
          "hovermode": "closest",
          "mapbox": {
           "style": "light"
          },
          "paper_bgcolor": "white",
          "plot_bgcolor": "#E5ECF6",
          "polar": {
           "angularaxis": {
            "gridcolor": "white",
            "linecolor": "white",
            "ticks": ""
           },
           "bgcolor": "#E5ECF6",
           "radialaxis": {
            "gridcolor": "white",
            "linecolor": "white",
            "ticks": ""
           }
          },
          "scene": {
           "xaxis": {
            "backgroundcolor": "#E5ECF6",
            "gridcolor": "white",
            "gridwidth": 2,
            "linecolor": "white",
            "showbackground": true,
            "ticks": "",
            "zerolinecolor": "white"
           },
           "yaxis": {
            "backgroundcolor": "#E5ECF6",
            "gridcolor": "white",
            "gridwidth": 2,
            "linecolor": "white",
            "showbackground": true,
            "ticks": "",
            "zerolinecolor": "white"
           },
           "zaxis": {
            "backgroundcolor": "#E5ECF6",
            "gridcolor": "white",
            "gridwidth": 2,
            "linecolor": "white",
            "showbackground": true,
            "ticks": "",
            "zerolinecolor": "white"
           }
          },
          "shapedefaults": {
           "line": {
            "color": "#2a3f5f"
           }
          },
          "ternary": {
           "aaxis": {
            "gridcolor": "white",
            "linecolor": "white",
            "ticks": ""
           },
           "baxis": {
            "gridcolor": "white",
            "linecolor": "white",
            "ticks": ""
           },
           "bgcolor": "#E5ECF6",
           "caxis": {
            "gridcolor": "white",
            "linecolor": "white",
            "ticks": ""
           }
          },
          "title": {
           "x": 0.05
          },
          "xaxis": {
           "automargin": true,
           "gridcolor": "white",
           "linecolor": "white",
           "ticks": "",
           "title": {
            "standoff": 15
           },
           "zerolinecolor": "white",
           "zerolinewidth": 2
          },
          "yaxis": {
           "automargin": true,
           "gridcolor": "white",
           "linecolor": "white",
           "ticks": "",
           "title": {
            "standoff": 15
           },
           "zerolinecolor": "white",
           "zerolinewidth": 2
          }
         }
        },
        "width": 900,
        "xaxis": {
         "anchor": "y",
         "domain": [
          0,
          1
         ],
         "title": {
          "text": "PC"
         }
        },
        "yaxis": {
         "anchor": "x",
         "domain": [
          0,
          1
         ],
         "title": {
          "text": "Explained Variance"
         }
        }
       }
      }
     },
     "metadata": {},
     "output_type": "display_data"
    }
   ],
   "source": [
    "# Representation graphique\n",
    "\n",
    "fig = px.bar(df_explained_variance, x= \"PC\", y = 'Explained Variance', text= 'Explained Variance', width= 800)\n",
    "fig.update_traces(texttemplate = '%{text:.3f}', textposition = 'outside')\n",
    "fig.update_layout(width = 900, height= 600)\n",
    "fig.show()"
   ]
  },
  {
   "cell_type": "code",
   "execution_count": 34,
   "metadata": {},
   "outputs": [
    {
     "data": {
      "application/vnd.plotly.v1+json": {
       "config": {
        "plotlyServerURL": "https://plot.ly"
       },
       "data": [
        {
         "marker": {
          "color": "red",
          "size": 15
         },
         "type": "scatter",
         "x": [
          "",
          "group",
          "outcome",
          "age",
          "gendera",
          "BMI",
          "hypertensive",
          "atrialfibrillation",
          "CHD with no MI",
          "deficiencyanemias",
          "depression",
          "Hyperlipemia",
          "Renal failure",
          "COPD",
          "heart rate",
          "Systolic blood pressure",
          "Diastolic blood pressure",
          "Respiratory rate",
          "temperature",
          "SP O2",
          "Urine output",
          "hematocrit",
          "RBC",
          "MCH",
          "MCHC",
          "MCV",
          "RDW",
          "Leucocyte",
          "Platelets",
          "Neutrophils",
          "Basophils",
          "Lymphocyte"
         ],
         "y": [
          0,
          0.097,
          0.183,
          0.26,
          0.323,
          0.38,
          0.423,
          0.46299999999999997,
          0.502,
          0.54,
          0.5760000000000001,
          0.6090000000000001,
          0.6410000000000001,
          0.6720000000000002,
          0.7020000000000002,
          0.7320000000000002,
          0.7600000000000002,
          0.7860000000000003,
          0.8110000000000003,
          0.8350000000000003,
          0.8580000000000003,
          0.8790000000000003,
          0.9000000000000004,
          0.9200000000000004,
          0.9380000000000004,
          0.9560000000000004,
          0.9710000000000004,
          0.9850000000000004,
          0.9940000000000004,
          0.9980000000000004,
          0.9980000000000004,
          0.9980000000000004
         ]
        },
        {
         "marker": {
          "color": "RoyalBlue"
         },
         "type": "bar",
         "x": [
          "",
          "group",
          "outcome",
          "age",
          "gendera",
          "BMI",
          "hypertensive",
          "atrialfibrillation",
          "CHD with no MI",
          "deficiencyanemias",
          "depression",
          "Hyperlipemia",
          "Renal failure",
          "COPD",
          "heart rate",
          "Systolic blood pressure",
          "Diastolic blood pressure",
          "Respiratory rate",
          "temperature",
          "SP O2",
          "Urine output",
          "hematocrit",
          "RBC",
          "MCH",
          "MCHC",
          "MCV",
          "RDW",
          "Leucocyte",
          "Platelets",
          "Neutrophils",
          "Basophils",
          "Lymphocyte"
         ],
         "y": [
          0,
          0.0971310828387341,
          0.08586554483376824,
          0.07667428522669688,
          0.06332628651562765,
          0.057281843481843626,
          0.043203718005117,
          0.040262028420329644,
          0.03926096126694231,
          0.038100249787737184,
          0.03566538299423824,
          0.03343668982372803,
          0.03202884396233285,
          0.031297091459242414,
          0.030113384716544032,
          0.029511558892515825,
          0.02776774711753974,
          0.026112301131739506,
          0.025392968227606495,
          0.023761227818893386,
          0.02288772882618472,
          0.021499580662780175,
          0.02131834769083612,
          0.019794687115042158,
          0.018164500293948536,
          0.017572793620778134,
          0.015060013523557748,
          0.014300143695167886,
          0.008950428371342994,
          0.004043345887652531,
          0.00018939688554035647,
          0.00002583690599157938
         ]
        }
       ],
       "layout": {
        "height": 600,
        "template": {
         "data": {
          "bar": [
           {
            "error_x": {
             "color": "#2a3f5f"
            },
            "error_y": {
             "color": "#2a3f5f"
            },
            "marker": {
             "line": {
              "color": "#E5ECF6",
              "width": 0.5
             },
             "pattern": {
              "fillmode": "overlay",
              "size": 10,
              "solidity": 0.2
             }
            },
            "type": "bar"
           }
          ],
          "barpolar": [
           {
            "marker": {
             "line": {
              "color": "#E5ECF6",
              "width": 0.5
             },
             "pattern": {
              "fillmode": "overlay",
              "size": 10,
              "solidity": 0.2
             }
            },
            "type": "barpolar"
           }
          ],
          "carpet": [
           {
            "aaxis": {
             "endlinecolor": "#2a3f5f",
             "gridcolor": "white",
             "linecolor": "white",
             "minorgridcolor": "white",
             "startlinecolor": "#2a3f5f"
            },
            "baxis": {
             "endlinecolor": "#2a3f5f",
             "gridcolor": "white",
             "linecolor": "white",
             "minorgridcolor": "white",
             "startlinecolor": "#2a3f5f"
            },
            "type": "carpet"
           }
          ],
          "choropleth": [
           {
            "colorbar": {
             "outlinewidth": 0,
             "ticks": ""
            },
            "type": "choropleth"
           }
          ],
          "contour": [
           {
            "colorbar": {
             "outlinewidth": 0,
             "ticks": ""
            },
            "colorscale": [
             [
              0,
              "#0d0887"
             ],
             [
              0.1111111111111111,
              "#46039f"
             ],
             [
              0.2222222222222222,
              "#7201a8"
             ],
             [
              0.3333333333333333,
              "#9c179e"
             ],
             [
              0.4444444444444444,
              "#bd3786"
             ],
             [
              0.5555555555555556,
              "#d8576b"
             ],
             [
              0.6666666666666666,
              "#ed7953"
             ],
             [
              0.7777777777777778,
              "#fb9f3a"
             ],
             [
              0.8888888888888888,
              "#fdca26"
             ],
             [
              1,
              "#f0f921"
             ]
            ],
            "type": "contour"
           }
          ],
          "contourcarpet": [
           {
            "colorbar": {
             "outlinewidth": 0,
             "ticks": ""
            },
            "type": "contourcarpet"
           }
          ],
          "heatmap": [
           {
            "colorbar": {
             "outlinewidth": 0,
             "ticks": ""
            },
            "colorscale": [
             [
              0,
              "#0d0887"
             ],
             [
              0.1111111111111111,
              "#46039f"
             ],
             [
              0.2222222222222222,
              "#7201a8"
             ],
             [
              0.3333333333333333,
              "#9c179e"
             ],
             [
              0.4444444444444444,
              "#bd3786"
             ],
             [
              0.5555555555555556,
              "#d8576b"
             ],
             [
              0.6666666666666666,
              "#ed7953"
             ],
             [
              0.7777777777777778,
              "#fb9f3a"
             ],
             [
              0.8888888888888888,
              "#fdca26"
             ],
             [
              1,
              "#f0f921"
             ]
            ],
            "type": "heatmap"
           }
          ],
          "heatmapgl": [
           {
            "colorbar": {
             "outlinewidth": 0,
             "ticks": ""
            },
            "colorscale": [
             [
              0,
              "#0d0887"
             ],
             [
              0.1111111111111111,
              "#46039f"
             ],
             [
              0.2222222222222222,
              "#7201a8"
             ],
             [
              0.3333333333333333,
              "#9c179e"
             ],
             [
              0.4444444444444444,
              "#bd3786"
             ],
             [
              0.5555555555555556,
              "#d8576b"
             ],
             [
              0.6666666666666666,
              "#ed7953"
             ],
             [
              0.7777777777777778,
              "#fb9f3a"
             ],
             [
              0.8888888888888888,
              "#fdca26"
             ],
             [
              1,
              "#f0f921"
             ]
            ],
            "type": "heatmapgl"
           }
          ],
          "histogram": [
           {
            "marker": {
             "pattern": {
              "fillmode": "overlay",
              "size": 10,
              "solidity": 0.2
             }
            },
            "type": "histogram"
           }
          ],
          "histogram2d": [
           {
            "colorbar": {
             "outlinewidth": 0,
             "ticks": ""
            },
            "colorscale": [
             [
              0,
              "#0d0887"
             ],
             [
              0.1111111111111111,
              "#46039f"
             ],
             [
              0.2222222222222222,
              "#7201a8"
             ],
             [
              0.3333333333333333,
              "#9c179e"
             ],
             [
              0.4444444444444444,
              "#bd3786"
             ],
             [
              0.5555555555555556,
              "#d8576b"
             ],
             [
              0.6666666666666666,
              "#ed7953"
             ],
             [
              0.7777777777777778,
              "#fb9f3a"
             ],
             [
              0.8888888888888888,
              "#fdca26"
             ],
             [
              1,
              "#f0f921"
             ]
            ],
            "type": "histogram2d"
           }
          ],
          "histogram2dcontour": [
           {
            "colorbar": {
             "outlinewidth": 0,
             "ticks": ""
            },
            "colorscale": [
             [
              0,
              "#0d0887"
             ],
             [
              0.1111111111111111,
              "#46039f"
             ],
             [
              0.2222222222222222,
              "#7201a8"
             ],
             [
              0.3333333333333333,
              "#9c179e"
             ],
             [
              0.4444444444444444,
              "#bd3786"
             ],
             [
              0.5555555555555556,
              "#d8576b"
             ],
             [
              0.6666666666666666,
              "#ed7953"
             ],
             [
              0.7777777777777778,
              "#fb9f3a"
             ],
             [
              0.8888888888888888,
              "#fdca26"
             ],
             [
              1,
              "#f0f921"
             ]
            ],
            "type": "histogram2dcontour"
           }
          ],
          "mesh3d": [
           {
            "colorbar": {
             "outlinewidth": 0,
             "ticks": ""
            },
            "type": "mesh3d"
           }
          ],
          "parcoords": [
           {
            "line": {
             "colorbar": {
              "outlinewidth": 0,
              "ticks": ""
             }
            },
            "type": "parcoords"
           }
          ],
          "pie": [
           {
            "automargin": true,
            "type": "pie"
           }
          ],
          "scatter": [
           {
            "fillpattern": {
             "fillmode": "overlay",
             "size": 10,
             "solidity": 0.2
            },
            "type": "scatter"
           }
          ],
          "scatter3d": [
           {
            "line": {
             "colorbar": {
              "outlinewidth": 0,
              "ticks": ""
             }
            },
            "marker": {
             "colorbar": {
              "outlinewidth": 0,
              "ticks": ""
             }
            },
            "type": "scatter3d"
           }
          ],
          "scattercarpet": [
           {
            "marker": {
             "colorbar": {
              "outlinewidth": 0,
              "ticks": ""
             }
            },
            "type": "scattercarpet"
           }
          ],
          "scattergeo": [
           {
            "marker": {
             "colorbar": {
              "outlinewidth": 0,
              "ticks": ""
             }
            },
            "type": "scattergeo"
           }
          ],
          "scattergl": [
           {
            "marker": {
             "colorbar": {
              "outlinewidth": 0,
              "ticks": ""
             }
            },
            "type": "scattergl"
           }
          ],
          "scattermapbox": [
           {
            "marker": {
             "colorbar": {
              "outlinewidth": 0,
              "ticks": ""
             }
            },
            "type": "scattermapbox"
           }
          ],
          "scatterpolar": [
           {
            "marker": {
             "colorbar": {
              "outlinewidth": 0,
              "ticks": ""
             }
            },
            "type": "scatterpolar"
           }
          ],
          "scatterpolargl": [
           {
            "marker": {
             "colorbar": {
              "outlinewidth": 0,
              "ticks": ""
             }
            },
            "type": "scatterpolargl"
           }
          ],
          "scatterternary": [
           {
            "marker": {
             "colorbar": {
              "outlinewidth": 0,
              "ticks": ""
             }
            },
            "type": "scatterternary"
           }
          ],
          "surface": [
           {
            "colorbar": {
             "outlinewidth": 0,
             "ticks": ""
            },
            "colorscale": [
             [
              0,
              "#0d0887"
             ],
             [
              0.1111111111111111,
              "#46039f"
             ],
             [
              0.2222222222222222,
              "#7201a8"
             ],
             [
              0.3333333333333333,
              "#9c179e"
             ],
             [
              0.4444444444444444,
              "#bd3786"
             ],
             [
              0.5555555555555556,
              "#d8576b"
             ],
             [
              0.6666666666666666,
              "#ed7953"
             ],
             [
              0.7777777777777778,
              "#fb9f3a"
             ],
             [
              0.8888888888888888,
              "#fdca26"
             ],
             [
              1,
              "#f0f921"
             ]
            ],
            "type": "surface"
           }
          ],
          "table": [
           {
            "cells": {
             "fill": {
              "color": "#EBF0F8"
             },
             "line": {
              "color": "white"
             }
            },
            "header": {
             "fill": {
              "color": "#C8D4E3"
             },
             "line": {
              "color": "white"
             }
            },
            "type": "table"
           }
          ]
         },
         "layout": {
          "annotationdefaults": {
           "arrowcolor": "#2a3f5f",
           "arrowhead": 0,
           "arrowwidth": 1
          },
          "autotypenumbers": "strict",
          "coloraxis": {
           "colorbar": {
            "outlinewidth": 0,
            "ticks": ""
           }
          },
          "colorscale": {
           "diverging": [
            [
             0,
             "#8e0152"
            ],
            [
             0.1,
             "#c51b7d"
            ],
            [
             0.2,
             "#de77ae"
            ],
            [
             0.3,
             "#f1b6da"
            ],
            [
             0.4,
             "#fde0ef"
            ],
            [
             0.5,
             "#f7f7f7"
            ],
            [
             0.6,
             "#e6f5d0"
            ],
            [
             0.7,
             "#b8e186"
            ],
            [
             0.8,
             "#7fbc41"
            ],
            [
             0.9,
             "#4d9221"
            ],
            [
             1,
             "#276419"
            ]
           ],
           "sequential": [
            [
             0,
             "#0d0887"
            ],
            [
             0.1111111111111111,
             "#46039f"
            ],
            [
             0.2222222222222222,
             "#7201a8"
            ],
            [
             0.3333333333333333,
             "#9c179e"
            ],
            [
             0.4444444444444444,
             "#bd3786"
            ],
            [
             0.5555555555555556,
             "#d8576b"
            ],
            [
             0.6666666666666666,
             "#ed7953"
            ],
            [
             0.7777777777777778,
             "#fb9f3a"
            ],
            [
             0.8888888888888888,
             "#fdca26"
            ],
            [
             1,
             "#f0f921"
            ]
           ],
           "sequentialminus": [
            [
             0,
             "#0d0887"
            ],
            [
             0.1111111111111111,
             "#46039f"
            ],
            [
             0.2222222222222222,
             "#7201a8"
            ],
            [
             0.3333333333333333,
             "#9c179e"
            ],
            [
             0.4444444444444444,
             "#bd3786"
            ],
            [
             0.5555555555555556,
             "#d8576b"
            ],
            [
             0.6666666666666666,
             "#ed7953"
            ],
            [
             0.7777777777777778,
             "#fb9f3a"
            ],
            [
             0.8888888888888888,
             "#fdca26"
            ],
            [
             1,
             "#f0f921"
            ]
           ]
          },
          "colorway": [
           "#636efa",
           "#EF553B",
           "#00cc96",
           "#ab63fa",
           "#FFA15A",
           "#19d3f3",
           "#FF6692",
           "#B6E880",
           "#FF97FF",
           "#FECB52"
          ],
          "font": {
           "color": "#2a3f5f"
          },
          "geo": {
           "bgcolor": "white",
           "lakecolor": "white",
           "landcolor": "#E5ECF6",
           "showlakes": true,
           "showland": true,
           "subunitcolor": "white"
          },
          "hoverlabel": {
           "align": "left"
          },
          "hovermode": "closest",
          "mapbox": {
           "style": "light"
          },
          "paper_bgcolor": "white",
          "plot_bgcolor": "#E5ECF6",
          "polar": {
           "angularaxis": {
            "gridcolor": "white",
            "linecolor": "white",
            "ticks": ""
           },
           "bgcolor": "#E5ECF6",
           "radialaxis": {
            "gridcolor": "white",
            "linecolor": "white",
            "ticks": ""
           }
          },
          "scene": {
           "xaxis": {
            "backgroundcolor": "#E5ECF6",
            "gridcolor": "white",
            "gridwidth": 2,
            "linecolor": "white",
            "showbackground": true,
            "ticks": "",
            "zerolinecolor": "white"
           },
           "yaxis": {
            "backgroundcolor": "#E5ECF6",
            "gridcolor": "white",
            "gridwidth": 2,
            "linecolor": "white",
            "showbackground": true,
            "ticks": "",
            "zerolinecolor": "white"
           },
           "zaxis": {
            "backgroundcolor": "#E5ECF6",
            "gridcolor": "white",
            "gridwidth": 2,
            "linecolor": "white",
            "showbackground": true,
            "ticks": "",
            "zerolinecolor": "white"
           }
          },
          "shapedefaults": {
           "line": {
            "color": "#2a3f5f"
           }
          },
          "ternary": {
           "aaxis": {
            "gridcolor": "white",
            "linecolor": "white",
            "ticks": ""
           },
           "baxis": {
            "gridcolor": "white",
            "linecolor": "white",
            "ticks": ""
           },
           "bgcolor": "#E5ECF6",
           "caxis": {
            "gridcolor": "white",
            "linecolor": "white",
            "ticks": ""
           }
          },
          "title": {
           "x": 0.05
          },
          "xaxis": {
           "automargin": true,
           "gridcolor": "white",
           "linecolor": "white",
           "ticks": "",
           "title": {
            "standoff": 15
           },
           "zerolinecolor": "white",
           "zerolinewidth": 2
          },
          "yaxis": {
           "automargin": true,
           "gridcolor": "white",
           "linecolor": "white",
           "ticks": "",
           "title": {
            "standoff": 15
           },
           "zerolinecolor": "white",
           "zerolinewidth": 2
          }
         }
        },
        "width": 900
       }
      }
     },
     "metadata": {},
     "output_type": "display_data"
    }
   ],
   "source": [
    "import plotly.graph_objects as go\n",
    "\n",
    "fig = go.Figure()\n",
    "fig.add_trace(\n",
    "    go.Scatter(\n",
    "        x= df_explained_variance['PC'],\n",
    "        y = df_explained_variance['Cumulative variance'],\n",
    "        marker = dict(size = 15, color = \"red\")\n",
    "    )\n",
    ")\n",
    "\n",
    "fig.add_trace(\n",
    "    go.Bar(\n",
    "        x= df_explained_variance['PC'],\n",
    "        y = df_explained_variance['Explained Variance'],\n",
    "        marker = dict(color = 'RoyalBlue')\n",
    "    )\n",
    ")\n",
    "fig.update_layout(width = 900, height= 600)\n",
    "fig.show()"
   ]
  },
  {
   "cell_type": "code",
   "execution_count": 35,
   "metadata": {},
   "outputs": [
    {
     "data": {
      "application/vnd.plotly.v1+json": {
       "config": {
        "plotlyServerURL": "https://plot.ly"
       },
       "data": [
        {
         "marker": {
          "color": "red",
          "size": 15
         },
         "type": "scatter",
         "x": [
          "",
          "group",
          "outcome",
          "age",
          "gendera",
          "BMI",
          "hypertensive",
          "atrialfibrillation",
          "CHD with no MI",
          "deficiencyanemias",
          "depression",
          "Hyperlipemia",
          "Renal failure",
          "COPD",
          "heart rate",
          "Systolic blood pressure",
          "Diastolic blood pressure",
          "Respiratory rate",
          "temperature",
          "SP O2",
          "Urine output",
          "hematocrit",
          "RBC",
          "MCH",
          "MCHC",
          "MCV",
          "RDW",
          "Leucocyte",
          "Platelets",
          "Neutrophils",
          "Basophils",
          "Lymphocyte"
         ],
         "xaxis": "x",
         "y": [
          0,
          0.097,
          0.183,
          0.26,
          0.323,
          0.38,
          0.423,
          0.46299999999999997,
          0.502,
          0.54,
          0.5760000000000001,
          0.6090000000000001,
          0.6410000000000001,
          0.6720000000000002,
          0.7020000000000002,
          0.7320000000000002,
          0.7600000000000002,
          0.7860000000000003,
          0.8110000000000003,
          0.8350000000000003,
          0.8580000000000003,
          0.8790000000000003,
          0.9000000000000004,
          0.9200000000000004,
          0.9380000000000004,
          0.9560000000000004,
          0.9710000000000004,
          0.9850000000000004,
          0.9940000000000004,
          0.9980000000000004,
          0.9980000000000004,
          0.9980000000000004
         ],
         "yaxis": "y"
        },
        {
         "marker": {
          "color": "RoyalBlue"
         },
         "type": "bar",
         "x": [
          "",
          "group",
          "outcome",
          "age",
          "gendera",
          "BMI",
          "hypertensive",
          "atrialfibrillation",
          "CHD with no MI",
          "deficiencyanemias",
          "depression",
          "Hyperlipemia",
          "Renal failure",
          "COPD",
          "heart rate",
          "Systolic blood pressure",
          "Diastolic blood pressure",
          "Respiratory rate",
          "temperature",
          "SP O2",
          "Urine output",
          "hematocrit",
          "RBC",
          "MCH",
          "MCHC",
          "MCV",
          "RDW",
          "Leucocyte",
          "Platelets",
          "Neutrophils",
          "Basophils",
          "Lymphocyte"
         ],
         "xaxis": "x2",
         "y": [
          0,
          0.0971310828387341,
          0.08586554483376824,
          0.07667428522669688,
          0.06332628651562765,
          0.057281843481843626,
          0.043203718005117,
          0.040262028420329644,
          0.03926096126694231,
          0.038100249787737184,
          0.03566538299423824,
          0.03343668982372803,
          0.03202884396233285,
          0.031297091459242414,
          0.030113384716544032,
          0.029511558892515825,
          0.02776774711753974,
          0.026112301131739506,
          0.025392968227606495,
          0.023761227818893386,
          0.02288772882618472,
          0.021499580662780175,
          0.02131834769083612,
          0.019794687115042158,
          0.018164500293948536,
          0.017572793620778134,
          0.015060013523557748,
          0.014300143695167886,
          0.008950428371342994,
          0.004043345887652531,
          0.00018939688554035647,
          0.00002583690599157938
         ],
         "yaxis": "y2"
        }
       ],
       "layout": {
        "height": 500,
        "template": {
         "data": {
          "bar": [
           {
            "error_x": {
             "color": "#2a3f5f"
            },
            "error_y": {
             "color": "#2a3f5f"
            },
            "marker": {
             "line": {
              "color": "#E5ECF6",
              "width": 0.5
             },
             "pattern": {
              "fillmode": "overlay",
              "size": 10,
              "solidity": 0.2
             }
            },
            "type": "bar"
           }
          ],
          "barpolar": [
           {
            "marker": {
             "line": {
              "color": "#E5ECF6",
              "width": 0.5
             },
             "pattern": {
              "fillmode": "overlay",
              "size": 10,
              "solidity": 0.2
             }
            },
            "type": "barpolar"
           }
          ],
          "carpet": [
           {
            "aaxis": {
             "endlinecolor": "#2a3f5f",
             "gridcolor": "white",
             "linecolor": "white",
             "minorgridcolor": "white",
             "startlinecolor": "#2a3f5f"
            },
            "baxis": {
             "endlinecolor": "#2a3f5f",
             "gridcolor": "white",
             "linecolor": "white",
             "minorgridcolor": "white",
             "startlinecolor": "#2a3f5f"
            },
            "type": "carpet"
           }
          ],
          "choropleth": [
           {
            "colorbar": {
             "outlinewidth": 0,
             "ticks": ""
            },
            "type": "choropleth"
           }
          ],
          "contour": [
           {
            "colorbar": {
             "outlinewidth": 0,
             "ticks": ""
            },
            "colorscale": [
             [
              0,
              "#0d0887"
             ],
             [
              0.1111111111111111,
              "#46039f"
             ],
             [
              0.2222222222222222,
              "#7201a8"
             ],
             [
              0.3333333333333333,
              "#9c179e"
             ],
             [
              0.4444444444444444,
              "#bd3786"
             ],
             [
              0.5555555555555556,
              "#d8576b"
             ],
             [
              0.6666666666666666,
              "#ed7953"
             ],
             [
              0.7777777777777778,
              "#fb9f3a"
             ],
             [
              0.8888888888888888,
              "#fdca26"
             ],
             [
              1,
              "#f0f921"
             ]
            ],
            "type": "contour"
           }
          ],
          "contourcarpet": [
           {
            "colorbar": {
             "outlinewidth": 0,
             "ticks": ""
            },
            "type": "contourcarpet"
           }
          ],
          "heatmap": [
           {
            "colorbar": {
             "outlinewidth": 0,
             "ticks": ""
            },
            "colorscale": [
             [
              0,
              "#0d0887"
             ],
             [
              0.1111111111111111,
              "#46039f"
             ],
             [
              0.2222222222222222,
              "#7201a8"
             ],
             [
              0.3333333333333333,
              "#9c179e"
             ],
             [
              0.4444444444444444,
              "#bd3786"
             ],
             [
              0.5555555555555556,
              "#d8576b"
             ],
             [
              0.6666666666666666,
              "#ed7953"
             ],
             [
              0.7777777777777778,
              "#fb9f3a"
             ],
             [
              0.8888888888888888,
              "#fdca26"
             ],
             [
              1,
              "#f0f921"
             ]
            ],
            "type": "heatmap"
           }
          ],
          "heatmapgl": [
           {
            "colorbar": {
             "outlinewidth": 0,
             "ticks": ""
            },
            "colorscale": [
             [
              0,
              "#0d0887"
             ],
             [
              0.1111111111111111,
              "#46039f"
             ],
             [
              0.2222222222222222,
              "#7201a8"
             ],
             [
              0.3333333333333333,
              "#9c179e"
             ],
             [
              0.4444444444444444,
              "#bd3786"
             ],
             [
              0.5555555555555556,
              "#d8576b"
             ],
             [
              0.6666666666666666,
              "#ed7953"
             ],
             [
              0.7777777777777778,
              "#fb9f3a"
             ],
             [
              0.8888888888888888,
              "#fdca26"
             ],
             [
              1,
              "#f0f921"
             ]
            ],
            "type": "heatmapgl"
           }
          ],
          "histogram": [
           {
            "marker": {
             "pattern": {
              "fillmode": "overlay",
              "size": 10,
              "solidity": 0.2
             }
            },
            "type": "histogram"
           }
          ],
          "histogram2d": [
           {
            "colorbar": {
             "outlinewidth": 0,
             "ticks": ""
            },
            "colorscale": [
             [
              0,
              "#0d0887"
             ],
             [
              0.1111111111111111,
              "#46039f"
             ],
             [
              0.2222222222222222,
              "#7201a8"
             ],
             [
              0.3333333333333333,
              "#9c179e"
             ],
             [
              0.4444444444444444,
              "#bd3786"
             ],
             [
              0.5555555555555556,
              "#d8576b"
             ],
             [
              0.6666666666666666,
              "#ed7953"
             ],
             [
              0.7777777777777778,
              "#fb9f3a"
             ],
             [
              0.8888888888888888,
              "#fdca26"
             ],
             [
              1,
              "#f0f921"
             ]
            ],
            "type": "histogram2d"
           }
          ],
          "histogram2dcontour": [
           {
            "colorbar": {
             "outlinewidth": 0,
             "ticks": ""
            },
            "colorscale": [
             [
              0,
              "#0d0887"
             ],
             [
              0.1111111111111111,
              "#46039f"
             ],
             [
              0.2222222222222222,
              "#7201a8"
             ],
             [
              0.3333333333333333,
              "#9c179e"
             ],
             [
              0.4444444444444444,
              "#bd3786"
             ],
             [
              0.5555555555555556,
              "#d8576b"
             ],
             [
              0.6666666666666666,
              "#ed7953"
             ],
             [
              0.7777777777777778,
              "#fb9f3a"
             ],
             [
              0.8888888888888888,
              "#fdca26"
             ],
             [
              1,
              "#f0f921"
             ]
            ],
            "type": "histogram2dcontour"
           }
          ],
          "mesh3d": [
           {
            "colorbar": {
             "outlinewidth": 0,
             "ticks": ""
            },
            "type": "mesh3d"
           }
          ],
          "parcoords": [
           {
            "line": {
             "colorbar": {
              "outlinewidth": 0,
              "ticks": ""
             }
            },
            "type": "parcoords"
           }
          ],
          "pie": [
           {
            "automargin": true,
            "type": "pie"
           }
          ],
          "scatter": [
           {
            "fillpattern": {
             "fillmode": "overlay",
             "size": 10,
             "solidity": 0.2
            },
            "type": "scatter"
           }
          ],
          "scatter3d": [
           {
            "line": {
             "colorbar": {
              "outlinewidth": 0,
              "ticks": ""
             }
            },
            "marker": {
             "colorbar": {
              "outlinewidth": 0,
              "ticks": ""
             }
            },
            "type": "scatter3d"
           }
          ],
          "scattercarpet": [
           {
            "marker": {
             "colorbar": {
              "outlinewidth": 0,
              "ticks": ""
             }
            },
            "type": "scattercarpet"
           }
          ],
          "scattergeo": [
           {
            "marker": {
             "colorbar": {
              "outlinewidth": 0,
              "ticks": ""
             }
            },
            "type": "scattergeo"
           }
          ],
          "scattergl": [
           {
            "marker": {
             "colorbar": {
              "outlinewidth": 0,
              "ticks": ""
             }
            },
            "type": "scattergl"
           }
          ],
          "scattermapbox": [
           {
            "marker": {
             "colorbar": {
              "outlinewidth": 0,
              "ticks": ""
             }
            },
            "type": "scattermapbox"
           }
          ],
          "scatterpolar": [
           {
            "marker": {
             "colorbar": {
              "outlinewidth": 0,
              "ticks": ""
             }
            },
            "type": "scatterpolar"
           }
          ],
          "scatterpolargl": [
           {
            "marker": {
             "colorbar": {
              "outlinewidth": 0,
              "ticks": ""
             }
            },
            "type": "scatterpolargl"
           }
          ],
          "scatterternary": [
           {
            "marker": {
             "colorbar": {
              "outlinewidth": 0,
              "ticks": ""
             }
            },
            "type": "scatterternary"
           }
          ],
          "surface": [
           {
            "colorbar": {
             "outlinewidth": 0,
             "ticks": ""
            },
            "colorscale": [
             [
              0,
              "#0d0887"
             ],
             [
              0.1111111111111111,
              "#46039f"
             ],
             [
              0.2222222222222222,
              "#7201a8"
             ],
             [
              0.3333333333333333,
              "#9c179e"
             ],
             [
              0.4444444444444444,
              "#bd3786"
             ],
             [
              0.5555555555555556,
              "#d8576b"
             ],
             [
              0.6666666666666666,
              "#ed7953"
             ],
             [
              0.7777777777777778,
              "#fb9f3a"
             ],
             [
              0.8888888888888888,
              "#fdca26"
             ],
             [
              1,
              "#f0f921"
             ]
            ],
            "type": "surface"
           }
          ],
          "table": [
           {
            "cells": {
             "fill": {
              "color": "#EBF0F8"
             },
             "line": {
              "color": "white"
             }
            },
            "header": {
             "fill": {
              "color": "#C8D4E3"
             },
             "line": {
              "color": "white"
             }
            },
            "type": "table"
           }
          ]
         },
         "layout": {
          "annotationdefaults": {
           "arrowcolor": "#2a3f5f",
           "arrowhead": 0,
           "arrowwidth": 1
          },
          "autotypenumbers": "strict",
          "coloraxis": {
           "colorbar": {
            "outlinewidth": 0,
            "ticks": ""
           }
          },
          "colorscale": {
           "diverging": [
            [
             0,
             "#8e0152"
            ],
            [
             0.1,
             "#c51b7d"
            ],
            [
             0.2,
             "#de77ae"
            ],
            [
             0.3,
             "#f1b6da"
            ],
            [
             0.4,
             "#fde0ef"
            ],
            [
             0.5,
             "#f7f7f7"
            ],
            [
             0.6,
             "#e6f5d0"
            ],
            [
             0.7,
             "#b8e186"
            ],
            [
             0.8,
             "#7fbc41"
            ],
            [
             0.9,
             "#4d9221"
            ],
            [
             1,
             "#276419"
            ]
           ],
           "sequential": [
            [
             0,
             "#0d0887"
            ],
            [
             0.1111111111111111,
             "#46039f"
            ],
            [
             0.2222222222222222,
             "#7201a8"
            ],
            [
             0.3333333333333333,
             "#9c179e"
            ],
            [
             0.4444444444444444,
             "#bd3786"
            ],
            [
             0.5555555555555556,
             "#d8576b"
            ],
            [
             0.6666666666666666,
             "#ed7953"
            ],
            [
             0.7777777777777778,
             "#fb9f3a"
            ],
            [
             0.8888888888888888,
             "#fdca26"
            ],
            [
             1,
             "#f0f921"
            ]
           ],
           "sequentialminus": [
            [
             0,
             "#0d0887"
            ],
            [
             0.1111111111111111,
             "#46039f"
            ],
            [
             0.2222222222222222,
             "#7201a8"
            ],
            [
             0.3333333333333333,
             "#9c179e"
            ],
            [
             0.4444444444444444,
             "#bd3786"
            ],
            [
             0.5555555555555556,
             "#d8576b"
            ],
            [
             0.6666666666666666,
             "#ed7953"
            ],
            [
             0.7777777777777778,
             "#fb9f3a"
            ],
            [
             0.8888888888888888,
             "#fdca26"
            ],
            [
             1,
             "#f0f921"
            ]
           ]
          },
          "colorway": [
           "#636efa",
           "#EF553B",
           "#00cc96",
           "#ab63fa",
           "#FFA15A",
           "#19d3f3",
           "#FF6692",
           "#B6E880",
           "#FF97FF",
           "#FECB52"
          ],
          "font": {
           "color": "#2a3f5f"
          },
          "geo": {
           "bgcolor": "white",
           "lakecolor": "white",
           "landcolor": "#E5ECF6",
           "showlakes": true,
           "showland": true,
           "subunitcolor": "white"
          },
          "hoverlabel": {
           "align": "left"
          },
          "hovermode": "closest",
          "mapbox": {
           "style": "light"
          },
          "paper_bgcolor": "white",
          "plot_bgcolor": "#E5ECF6",
          "polar": {
           "angularaxis": {
            "gridcolor": "white",
            "linecolor": "white",
            "ticks": ""
           },
           "bgcolor": "#E5ECF6",
           "radialaxis": {
            "gridcolor": "white",
            "linecolor": "white",
            "ticks": ""
           }
          },
          "scene": {
           "xaxis": {
            "backgroundcolor": "#E5ECF6",
            "gridcolor": "white",
            "gridwidth": 2,
            "linecolor": "white",
            "showbackground": true,
            "ticks": "",
            "zerolinecolor": "white"
           },
           "yaxis": {
            "backgroundcolor": "#E5ECF6",
            "gridcolor": "white",
            "gridwidth": 2,
            "linecolor": "white",
            "showbackground": true,
            "ticks": "",
            "zerolinecolor": "white"
           },
           "zaxis": {
            "backgroundcolor": "#E5ECF6",
            "gridcolor": "white",
            "gridwidth": 2,
            "linecolor": "white",
            "showbackground": true,
            "ticks": "",
            "zerolinecolor": "white"
           }
          },
          "shapedefaults": {
           "line": {
            "color": "#2a3f5f"
           }
          },
          "ternary": {
           "aaxis": {
            "gridcolor": "white",
            "linecolor": "white",
            "ticks": ""
           },
           "baxis": {
            "gridcolor": "white",
            "linecolor": "white",
            "ticks": ""
           },
           "bgcolor": "#E5ECF6",
           "caxis": {
            "gridcolor": "white",
            "linecolor": "white",
            "ticks": ""
           }
          },
          "title": {
           "x": 0.05
          },
          "xaxis": {
           "automargin": true,
           "gridcolor": "white",
           "linecolor": "white",
           "ticks": "",
           "title": {
            "standoff": 15
           },
           "zerolinecolor": "white",
           "zerolinewidth": 2
          },
          "yaxis": {
           "automargin": true,
           "gridcolor": "white",
           "linecolor": "white",
           "ticks": "",
           "title": {
            "standoff": 15
           },
           "zerolinecolor": "white",
           "zerolinewidth": 2
          }
         }
        },
        "width": 900,
        "xaxis": {
         "anchor": "y",
         "domain": [
          0,
          0.45
         ]
        },
        "xaxis2": {
         "anchor": "y2",
         "domain": [
          0.55,
          1
         ]
        },
        "yaxis": {
         "anchor": "x",
         "domain": [
          0,
          1
         ]
        },
        "yaxis2": {
         "anchor": "x2",
         "domain": [
          0,
          1
         ]
        }
       }
      }
     },
     "metadata": {},
     "output_type": "display_data"
    }
   ],
   "source": [
    "from plotly.subplots import make_subplots\n",
    "\n",
    "fig = make_subplots(1,2)\n",
    "fig.add_trace(\n",
    "    go.Scatter(\n",
    "        x= df_explained_variance['PC'],\n",
    "        y = df_explained_variance['Cumulative variance'],\n",
    "        marker = dict(size = 15, color = \"red\")\n",
    "    ), row =1, col = 1\n",
    ")\n",
    "\n",
    "fig.add_trace(\n",
    "    go.Bar(\n",
    "        x= df_explained_variance['PC'],\n",
    "        y = df_explained_variance['Explained Variance'],\n",
    "        marker = dict(color = 'RoyalBlue')\n",
    "    ), row = 1, col = 2\n",
    ")\n",
    "fig.update_layout(width = 900, height= 500)\n",
    "fig.show()"
   ]
  },
  {
   "attachments": {},
   "cell_type": "markdown",
   "metadata": {},
   "source": [
    "# Correlation de Peason"
   ]
  },
  {
   "cell_type": "code",
   "execution_count": 36,
   "metadata": {},
   "outputs": [],
   "source": [
    "bdd = df"
   ]
  },
  {
   "cell_type": "code",
   "execution_count": 37,
   "metadata": {},
   "outputs": [
    {
     "name": "stdout",
     "output_type": "stream",
     "text": [
      "(1177,)\n",
      "(1177, 31)\n"
     ]
    }
   ],
   "source": [
    "y = bdd['diabetes']\n",
    "x = bdd.drop('diabetes', axis= 1)\n",
    "print(y.shape)\n",
    "print(x.shape)"
   ]
  },
  {
   "attachments": {},
   "cell_type": "markdown",
   "metadata": {},
   "source": [
    " On va créé une partition de train et de test"
   ]
  },
  {
   "cell_type": "code",
   "execution_count": 115,
   "metadata": {},
   "outputs": [
    {
     "data": {
      "text/plain": [
       "((965, 31), (212, 31))"
      ]
     },
     "execution_count": 115,
     "metadata": {},
     "output_type": "execute_result"
    }
   ],
   "source": [
    "from sklearn.model_selection import train_test_split\n",
    "\n",
    "x_train, x_test,y_train, y_test = train_test_split(x , y, test_size = 0.18, random_state = 42)\n",
    "x_train.shape, x_test.shape"
   ]
  },
  {
   "cell_type": "code",
   "execution_count": 39,
   "metadata": {},
   "outputs": [
    {
     "data": {
      "image/png": "[encoded data removed]",
      "text/plain": [
       "<Figure size 1440x1440 with 2 Axes>"
      ]
     },
     "metadata": {
      "needs_background": "light"
     },
     "output_type": "display_data"
    }
   ],
   "source": [
    "cor = x_train.corr()\n",
    "mask = np.triu(np.ones_like(cor, dtype = bool)) # pour masquer la 2ème partie du tableau\n",
    "plt.figure(figsize=(20,20))\n",
    "sns.heatmap(cor, mask=mask, center= 0, cmap= 'RdBu', linewidths=1, annot=True, fmt= \".2f\", vmin=-1, vmax=1)\n",
    "plt.title('Carte des correlations', fontsize =25, fontweight= \"bold\")\n",
    "plt.show()"
   ]
  },
  {
   "attachments": {},
   "cell_type": "markdown",
   "metadata": {},
   "source": [
    "La création d'une fonction afin de faire sortir les variables qui ont une corrération trés élevé suivant le seuil de correlation"
   ]
  },
  {
   "cell_type": "code",
   "execution_count": 40,
   "metadata": {},
   "outputs": [],
   "source": [
    "def correlation(data, threshold):\n",
    "    col_corr = set()\n",
    "    corr_matrix = data.corr()\n",
    "\n",
    "    for i in range(len(corr_matrix.columns)):\n",
    "        for j in range(i):\n",
    "            if abs(corr_matrix.iloc[i, j]) > threshold:\n",
    "                col_name = corr_matrix.columns[i]\n",
    "                col_corr.add(col_name)\n",
    "    return col_corr"
   ]
  },
  {
   "cell_type": "code",
   "execution_count": 41,
   "metadata": {},
   "outputs": [
    {
     "name": "stdout",
     "output_type": "stream",
     "text": [
      "Le nombre de variables corrélées =  4\n",
      "les principaux variables sont:  {'Lymphocyte', 'MCV', 'MCHC', 'RBC'}\n"
     ]
    }
   ],
   "source": [
    "cor_feature = correlation(x_train, 0.6)\n",
    "print('Le nombre de variables corrélées = ',len(set(cor_feature)))\n",
    "print('les principaux variables sont: ', cor_feature)"
   ]
  },
  {
   "cell_type": "code",
   "execution_count": 116,
   "metadata": {},
   "outputs": [],
   "source": [
    "X_train = x_train.drop(cor_feature, axis= 1)\n",
    "X_test = x_test.drop(cor_feature, axis=1)"
   ]
  },
  {
   "cell_type": "code",
   "execution_count": 117,
   "metadata": {},
   "outputs": [
    {
     "data": {
      "text/plain": [
       "0    561\n",
       "1    404\n",
       "Name: diabetes, dtype: int64"
      ]
     },
     "execution_count": 117,
     "metadata": {},
     "output_type": "execute_result"
    }
   ],
   "source": [
    "y_train.value_counts()"
   ]
  },
  {
   "attachments": {},
   "cell_type": "markdown",
   "metadata": {},
   "source": [
    "# Selection des variables en utilisant la mutual information\n"
   ]
  },
  {
   "cell_type": "code",
   "execution_count": 44,
   "metadata": {},
   "outputs": [],
   "source": [
    "from sklearn.feature_selection import mutual_info_classif\n",
    "\n",
    "mutual_infos = mutual_info_classif(x_train, y_train)"
   ]
  },
  {
   "cell_type": "code",
   "execution_count": 45,
   "metadata": {},
   "outputs": [
    {
     "data": {
      "text/plain": [
       "BMI                         0.033875\n",
       "MCH                         0.032542\n",
       "depression                  0.028470\n",
       "Neutrophils                 0.028458\n",
       "heart rate                  0.022687\n",
       "outcome                     0.021092\n",
       "Platelets                   0.017522\n",
       "Leucocyte                   0.014944\n",
       "Renal failure               0.014088\n",
       "CHD with no MI              0.012044\n",
       "RDW                         0.009724\n",
       "MCV                         0.008665\n",
       "Basophils                   0.004799\n",
       "Diastolic blood pressure    0.001317\n",
       "hypertensive                0.001299\n",
       "MCHC                        0.000000\n",
       "Urine output                0.000000\n",
       "RBC                         0.000000\n",
       "hematocrit                  0.000000\n",
       "group                       0.000000\n",
       "SP O2                       0.000000\n",
       "temperature                 0.000000\n",
       "Respiratory rate            0.000000\n",
       "Systolic blood pressure     0.000000\n",
       "COPD                        0.000000\n",
       "Hyperlipemia                0.000000\n",
       "deficiencyanemias           0.000000\n",
       "atrialfibrillation          0.000000\n",
       "gendera                     0.000000\n",
       "age                         0.000000\n",
       "Lymphocyte                  0.000000\n",
       "dtype: float64"
      ]
     },
     "execution_count": 45,
     "metadata": {},
     "output_type": "execute_result"
    }
   ],
   "source": [
    "# Voyons les variables correspondantes\n",
    "\n",
    "mutual_infos = pd.Series(mutual_infos)\n",
    "mutual_infos.index = x_train.columns\n",
    "mutual_infos.sort_values(ascending= False) "
   ]
  },
  {
   "cell_type": "code",
   "execution_count": 46,
   "metadata": {},
   "outputs": [
    {
     "data": {
      "text/plain": [
       "<AxesSubplot:>"
      ]
     },
     "execution_count": 46,
     "metadata": {},
     "output_type": "execute_result"
    },
    {
     "data": {
      "image/png": "[encoded data removed]",
      "text/plain": [
       "<Figure size 1440x648 with 1 Axes>"
      ]
     },
     "metadata": {
      "needs_background": "light"
     },
     "output_type": "display_data"
    }
   ],
   "source": [
    "got = mutual_infos.sort_values(ascending= False) \n",
    "got.plot.bar(figsize = (20,9))"
   ]
  },
  {
   "attachments": {},
   "cell_type": "markdown",
   "metadata": {},
   "source": [
    "## Identification des top 10"
   ]
  },
  {
   "cell_type": "code",
   "execution_count": 47,
   "metadata": {},
   "outputs": [
    {
     "data": {
      "text/plain": [
       "Index(['BMI', 'hypertensive', 'Hyperlipemia', 'Renal failure', 'COPD',\n",
       "       'heart rate', 'Diastolic blood pressure', 'SP O2', 'Urine output',\n",
       "       'hematocrit', 'RBC', 'MCH', 'MCHC', 'MCV', 'RDW', 'Leucocyte',\n",
       "       'Platelets', 'Neutrophils', 'Basophils', 'Lymphocyte'],\n",
       "      dtype='object')"
      ]
     },
     "execution_count": 47,
     "metadata": {},
     "output_type": "execute_result"
    }
   ],
   "source": [
    "from sklearn.feature_selection import SelectKBest\n",
    "\n",
    "select_top = SelectKBest(mutual_info_classif, k=20)\n",
    "select_top.fit(x_train, y_train)\n",
    "x_train.columns[select_top.get_support()]"
   ]
  },
  {
   "cell_type": "code",
   "execution_count": null,
   "metadata": {},
   "outputs": [],
   "source": []
  },
  {
   "attachments": {},
   "cell_type": "markdown",
   "metadata": {},
   "source": [
    "## Intialisation des modèles"
   ]
  },
  {
   "cell_type": "code",
   "execution_count": 48,
   "metadata": {},
   "outputs": [],
   "source": [
    "from sklearn.linear_model import LogisticRegression\n",
    "from sklearn.neighbors import KNeighborsClassifier\n",
    "from sklearn.tree import DecisionTreeClassifier\n",
    "from sklearn.ensemble import RandomForestClassifier\n",
    "from sklearn.metrics import accuracy_score"
   ]
  },
  {
   "cell_type": "code",
   "execution_count": 49,
   "metadata": {},
   "outputs": [],
   "source": [
    "#X_train, X_test, y_train, y_test"
   ]
  },
  {
   "cell_type": "code",
   "execution_count": 50,
   "metadata": {},
   "outputs": [
    {
     "name": "stderr",
     "output_type": "stream",
     "text": [
      "C:\\Users\\LENOVO\\AppData\\Roaming\\Python\\Python39\\site-packages\\sklearn\\linear_model\\_logistic.py:444: ConvergenceWarning:\n",
      "\n",
      "lbfgs failed to converge (status=1):\n",
      "STOP: TOTAL NO. of ITERATIONS REACHED LIMIT.\n",
      "\n",
      "Increase the number of iterations (max_iter) or scale the data as shown in:\n",
      "    https://scikit-learn.org/stable/modules/preprocessing.html\n",
      "Please also refer to the documentation for alternative solver options:\n",
      "    https://scikit-learn.org/stable/modules/linear_model.html#logistic-regression\n",
      "\n"
     ]
    },
    {
     "name": "stdout",
     "output_type": "stream",
     "text": [
      "Accuracy of Logistic Regression: 0.599\n",
      "Accuracy of KNN: 0.5\n",
      "Accuracy of Decision Tree: 0.571\n",
      "Accuracy of Random Forest: 0.675\n"
     ]
    }
   ],
   "source": [
    "# Initialiser les modèles\n",
    "models = [LogisticRegression(), KNeighborsClassifier(), DecisionTreeClassifier(), RandomForestClassifier()]\n",
    "model_names = ['Logistic Regression', 'KNN', 'Decision Tree', 'Random Forest']\n",
    "acc = []\n",
    "# Boucle sur les modèles et effectuer la classification\n",
    "for model, model_name in zip(models, model_names):\n",
    "    classif = model\n",
    "    classif.fit(X_train, y_train)\n",
    "    y_pred = classif.predict(X_test)\n",
    "    accuracy = accuracy_score(y_test, y_pred)\n",
    "    print(f\"Accuracy of {model_name}: {np.round(accuracy, 3)}\")\n",
    "    # Stocker les scores de précision pour chaque modèle dans un dataframe\n",
    "    acc.append(accuracy) \n",
    "  "
   ]
  },
  {
   "attachments": {},
   "cell_type": "markdown",
   "metadata": {},
   "source": [
    "Ensuite, nous initialisons les modèles en utilisant les classes LogisticRegression, KNeighborsClassifier, DecisionTreeClassifier et RandomForestClassifier de scikit-learn. \n",
    "Nous les nommons ensuite dans un tableau model_names pour pouvoir les identifier plus facilement lors de la classification.\n",
    "\n",
    "Enfin, nous effectuons la classification en bouclant sur les modèles et en utilisant la méthode fit pour entraîner le modèle"
   ]
  },
  {
   "attachments": {},
   "cell_type": "markdown",
   "metadata": {},
   "source": [
    "## Representation graphique"
   ]
  },
  {
   "cell_type": "code",
   "execution_count": 51,
   "metadata": {},
   "outputs": [
    {
     "data": {
      "image/png": "[encoded data removed]",
      "text/plain": [
       "<Figure size 432x288 with 1 Axes>"
      ]
     },
     "metadata": {
      "needs_background": "light"
     },
     "output_type": "display_data"
    }
   ],
   "source": [
    "results = pd.DataFrame({'Model': model_names, 'Accuracy Score': acc})\n",
    "results\n",
    "# Tracer un graphique en barres des scores de précision\n",
    "sns.barplot(x='Model', y='Accuracy Score', data=results, palette='viridis')\n",
    "plt.xlabel(\"Models\")\n",
    "plt.ylabel(\"Accuracy Score\")\n",
    "plt.title(\"Accuracy Scores of Different Models\")\n",
    "plt.show()"
   ]
  },
  {
   "cell_type": "code",
   "execution_count": 52,
   "metadata": {},
   "outputs": [],
   "source": [
    "import lazypredict\n",
    "from lazypredict.Supervised import LazyClassifier, LazyRegressor"
   ]
  },
  {
   "cell_type": "code",
   "execution_count": 53,
   "metadata": {},
   "outputs": [
    {
     "name": "stderr",
     "output_type": "stream",
     "text": [
      "100%|██████████| 29/29 [00:09<00:00,  3.11it/s]\n"
     ]
    },
    {
     "data": {
      "text/plain": [
       "(                               Accuracy  Balanced Accuracy  ROC AUC  F1 Score  \\\n",
       " Model                                                                           \n",
       " NearestCentroid                    0.68               0.68     0.68      0.68   \n",
       " LinearDiscriminantAnalysis         0.67               0.66     0.66      0.67   \n",
       " RidgeClassifierCV                  0.67               0.66     0.66      0.67   \n",
       " RidgeClassifier                    0.67               0.66     0.66      0.67   \n",
       " LinearSVC                          0.67               0.66     0.66      0.67   \n",
       " LogisticRegression                 0.66               0.65     0.65      0.66   \n",
       " BernoulliNB                        0.66               0.64     0.64      0.65   \n",
       " CalibratedClassifierCV             0.66               0.64     0.64      0.65   \n",
       " XGBClassifier                      0.63               0.62     0.62      0.63   \n",
       " AdaBoostClassifier                 0.62               0.61     0.61      0.62   \n",
       " DecisionTreeClassifier             0.61               0.61     0.61      0.61   \n",
       " BaggingClassifier                  0.63               0.60     0.60      0.61   \n",
       " ExtraTreesClassifier               0.63               0.60     0.60      0.61   \n",
       " SVC                                0.61               0.59     0.59      0.60   \n",
       " RandomForestClassifier             0.61               0.58     0.58      0.59   \n",
       " SGDClassifier                      0.57               0.58     0.58      0.57   \n",
       " KNeighborsClassifier               0.60               0.58     0.58      0.59   \n",
       " LGBMClassifier                     0.58               0.57     0.57      0.58   \n",
       " GaussianNB                         0.56               0.57     0.57      0.56   \n",
       " NuSVC                              0.58               0.57     0.57      0.58   \n",
       " ExtraTreeClassifier                0.58               0.57     0.57      0.58   \n",
       " QuadraticDiscriminantAnalysis      0.54               0.55     0.55      0.54   \n",
       " LabelPropagation                   0.54               0.53     0.53      0.54   \n",
       " LabelSpreading                     0.54               0.53     0.53      0.54   \n",
       " Perceptron                         0.55               0.50     0.50      0.49   \n",
       " DummyClassifier                    0.57               0.50     0.50      0.41   \n",
       " PassiveAggressiveClassifier        0.50               0.50     0.50      0.50   \n",
       " \n",
       "                                Time Taken  \n",
       " Model                                      \n",
       " NearestCentroid                      0.03  \n",
       " LinearDiscriminantAnalysis           0.24  \n",
       " RidgeClassifierCV                    0.03  \n",
       " RidgeClassifier                      0.05  \n",
       " LinearSVC                            0.88  \n",
       " LogisticRegression                   0.04  \n",
       " BernoulliNB                          0.06  \n",
       " CalibratedClassifierCV               0.69  \n",
       " XGBClassifier                        0.75  \n",
       " AdaBoostClassifier                   0.56  \n",
       " DecisionTreeClassifier               0.05  \n",
       " BaggingClassifier                    0.23  \n",
       " ExtraTreesClassifier                 0.59  \n",
       " SVC                                  0.21  \n",
       " RandomForestClassifier               0.95  \n",
       " SGDClassifier                        0.05  \n",
       " KNeighborsClassifier                 0.05  \n",
       " LGBMClassifier                       1.27  \n",
       " GaussianNB                           0.03  \n",
       " NuSVC                                0.32  \n",
       " ExtraTreeClassifier                  0.04  \n",
       " QuadraticDiscriminantAnalysis        0.05  \n",
       " LabelPropagation                     0.78  \n",
       " LabelSpreading                       1.21  \n",
       " Perceptron                           0.03  \n",
       " DummyClassifier                      0.03  \n",
       " PassiveAggressiveClassifier          0.04  ,\n",
       "                                Accuracy  Balanced Accuracy  ROC AUC  F1 Score  \\\n",
       " Model                                                                           \n",
       " NearestCentroid                    0.68               0.68     0.68      0.68   \n",
       " LinearDiscriminantAnalysis         0.67               0.66     0.66      0.67   \n",
       " RidgeClassifierCV                  0.67               0.66     0.66      0.67   \n",
       " RidgeClassifier                    0.67               0.66     0.66      0.67   \n",
       " LinearSVC                          0.67               0.66     0.66      0.67   \n",
       " LogisticRegression                 0.66               0.65     0.65      0.66   \n",
       " BernoulliNB                        0.66               0.64     0.64      0.65   \n",
       " CalibratedClassifierCV             0.66               0.64     0.64      0.65   \n",
       " XGBClassifier                      0.63               0.62     0.62      0.63   \n",
       " AdaBoostClassifier                 0.62               0.61     0.61      0.62   \n",
       " DecisionTreeClassifier             0.61               0.61     0.61      0.61   \n",
       " BaggingClassifier                  0.63               0.60     0.60      0.61   \n",
       " ExtraTreesClassifier               0.63               0.60     0.60      0.61   \n",
       " SVC                                0.61               0.59     0.59      0.60   \n",
       " RandomForestClassifier             0.61               0.58     0.58      0.59   \n",
       " SGDClassifier                      0.57               0.58     0.58      0.57   \n",
       " KNeighborsClassifier               0.60               0.58     0.58      0.59   \n",
       " LGBMClassifier                     0.58               0.57     0.57      0.58   \n",
       " GaussianNB                         0.56               0.57     0.57      0.56   \n",
       " NuSVC                              0.58               0.57     0.57      0.58   \n",
       " ExtraTreeClassifier                0.58               0.57     0.57      0.58   \n",
       " QuadraticDiscriminantAnalysis      0.54               0.55     0.55      0.54   \n",
       " LabelPropagation                   0.54               0.53     0.53      0.54   \n",
       " LabelSpreading                     0.54               0.53     0.53      0.54   \n",
       " Perceptron                         0.55               0.50     0.50      0.49   \n",
       " DummyClassifier                    0.57               0.50     0.50      0.41   \n",
       " PassiveAggressiveClassifier        0.50               0.50     0.50      0.50   \n",
       " \n",
       "                                Time Taken  \n",
       " Model                                      \n",
       " NearestCentroid                      0.03  \n",
       " LinearDiscriminantAnalysis           0.24  \n",
       " RidgeClassifierCV                    0.03  \n",
       " RidgeClassifier                      0.05  \n",
       " LinearSVC                            0.88  \n",
       " LogisticRegression                   0.04  \n",
       " BernoulliNB                          0.06  \n",
       " CalibratedClassifierCV               0.69  \n",
       " XGBClassifier                        0.75  \n",
       " AdaBoostClassifier                   0.56  \n",
       " DecisionTreeClassifier               0.05  \n",
       " BaggingClassifier                    0.23  \n",
       " ExtraTreesClassifier                 0.59  \n",
       " SVC                                  0.21  \n",
       " RandomForestClassifier               0.95  \n",
       " SGDClassifier                        0.05  \n",
       " KNeighborsClassifier                 0.05  \n",
       " LGBMClassifier                       1.27  \n",
       " GaussianNB                           0.03  \n",
       " NuSVC                                0.32  \n",
       " ExtraTreeClassifier                  0.04  \n",
       " QuadraticDiscriminantAnalysis        0.05  \n",
       " LabelPropagation                     0.78  \n",
       " LabelSpreading                       1.21  \n",
       " Perceptron                           0.03  \n",
       " DummyClassifier                      0.03  \n",
       " PassiveAggressiveClassifier          0.04  )"
      ]
     },
     "execution_count": 53,
     "metadata": {},
     "output_type": "execute_result"
    }
   ],
   "source": [
    "lazy = LazyClassifier()\n",
    "lazy.fit(X_train, X_test, y_train, y_test)"
   ]
  },
  {
   "cell_type": "code",
   "execution_count": 84,
   "metadata": {},
   "outputs": [
    {
     "data": {
      "text/html": [
       "<div>\n",
       "<style scoped>\n",
       "    .dataframe tbody tr th:only-of-type {\n",
       "        vertical-align: middle;\n",
       "    }\n",
       "\n",
       "    .dataframe tbody tr th {\n",
       "        vertical-align: top;\n",
       "    }\n",
       "\n",
       "    .dataframe thead th {\n",
       "        text-align: right;\n",
       "    }\n",
       "</style>\n",
       "<table border=\"1\" class=\"dataframe\">\n",
       "  <thead>\n",
       "    <tr style=\"text-align: right;\">\n",
       "      <th></th>\n",
       "      <th>group</th>\n",
       "      <th>outcome</th>\n",
       "      <th>age</th>\n",
       "      <th>gendera</th>\n",
       "      <th>BMI</th>\n",
       "      <th>hypertensive</th>\n",
       "      <th>atrialfibrillation</th>\n",
       "      <th>CHD with no MI</th>\n",
       "      <th>deficiencyanemias</th>\n",
       "      <th>depression</th>\n",
       "      <th>...</th>\n",
       "      <th>temperature</th>\n",
       "      <th>SP O2</th>\n",
       "      <th>Urine output</th>\n",
       "      <th>hematocrit</th>\n",
       "      <th>MCH</th>\n",
       "      <th>RDW</th>\n",
       "      <th>Leucocyte</th>\n",
       "      <th>Platelets</th>\n",
       "      <th>Neutrophils</th>\n",
       "      <th>Basophils</th>\n",
       "    </tr>\n",
       "  </thead>\n",
       "  <tbody>\n",
       "    <tr>\n",
       "      <th>716</th>\n",
       "      <td>1</td>\n",
       "      <td>0.00</td>\n",
       "      <td>66</td>\n",
       "      <td>2</td>\n",
       "      <td>32.99</td>\n",
       "      <td>1</td>\n",
       "      <td>0</td>\n",
       "      <td>0</td>\n",
       "      <td>0</td>\n",
       "      <td>0</td>\n",
       "      <td>...</td>\n",
       "      <td>37.14</td>\n",
       "      <td>96.11</td>\n",
       "      <td>1815.00</td>\n",
       "      <td>34.76</td>\n",
       "      <td>33.51</td>\n",
       "      <td>14.47</td>\n",
       "      <td>10.96</td>\n",
       "      <td>241.57</td>\n",
       "      <td>73.03</td>\n",
       "      <td>0.45</td>\n",
       "    </tr>\n",
       "    <tr>\n",
       "      <th>845</th>\n",
       "      <td>2</td>\n",
       "      <td>0.00</td>\n",
       "      <td>65</td>\n",
       "      <td>2</td>\n",
       "      <td>31.63</td>\n",
       "      <td>1</td>\n",
       "      <td>0</td>\n",
       "      <td>0</td>\n",
       "      <td>0</td>\n",
       "      <td>0</td>\n",
       "      <td>...</td>\n",
       "      <td>36.21</td>\n",
       "      <td>95.83</td>\n",
       "      <td>1865.00</td>\n",
       "      <td>31.27</td>\n",
       "      <td>29.33</td>\n",
       "      <td>14.37</td>\n",
       "      <td>19.97</td>\n",
       "      <td>310.17</td>\n",
       "      <td>89.02</td>\n",
       "      <td>0.40</td>\n",
       "    </tr>\n",
       "    <tr>\n",
       "      <th>494</th>\n",
       "      <td>1</td>\n",
       "      <td>0.00</td>\n",
       "      <td>78</td>\n",
       "      <td>2</td>\n",
       "      <td>30.19</td>\n",
       "      <td>1</td>\n",
       "      <td>0</td>\n",
       "      <td>0</td>\n",
       "      <td>1</td>\n",
       "      <td>0</td>\n",
       "      <td>...</td>\n",
       "      <td>36.88</td>\n",
       "      <td>97.80</td>\n",
       "      <td>2135.00</td>\n",
       "      <td>30.39</td>\n",
       "      <td>32.53</td>\n",
       "      <td>13.37</td>\n",
       "      <td>13.37</td>\n",
       "      <td>268.67</td>\n",
       "      <td>83.20</td>\n",
       "      <td>0.20</td>\n",
       "    </tr>\n",
       "    <tr>\n",
       "      <th>76</th>\n",
       "      <td>1</td>\n",
       "      <td>0.00</td>\n",
       "      <td>60</td>\n",
       "      <td>2</td>\n",
       "      <td>48.75</td>\n",
       "      <td>1</td>\n",
       "      <td>1</td>\n",
       "      <td>0</td>\n",
       "      <td>0</td>\n",
       "      <td>0</td>\n",
       "      <td>...</td>\n",
       "      <td>37.09</td>\n",
       "      <td>97.96</td>\n",
       "      <td>4790.00</td>\n",
       "      <td>37.46</td>\n",
       "      <td>26.97</td>\n",
       "      <td>15.93</td>\n",
       "      <td>11.11</td>\n",
       "      <td>269.86</td>\n",
       "      <td>75.20</td>\n",
       "      <td>0.70</td>\n",
       "    </tr>\n",
       "    <tr>\n",
       "      <th>712</th>\n",
       "      <td>1</td>\n",
       "      <td>0.00</td>\n",
       "      <td>70</td>\n",
       "      <td>1</td>\n",
       "      <td>28.03</td>\n",
       "      <td>1</td>\n",
       "      <td>0</td>\n",
       "      <td>0</td>\n",
       "      <td>0</td>\n",
       "      <td>0</td>\n",
       "      <td>...</td>\n",
       "      <td>36.68</td>\n",
       "      <td>96.27</td>\n",
       "      <td>1899.28</td>\n",
       "      <td>28.95</td>\n",
       "      <td>31.25</td>\n",
       "      <td>14.32</td>\n",
       "      <td>9.78</td>\n",
       "      <td>227.75</td>\n",
       "      <td>81.40</td>\n",
       "      <td>0.30</td>\n",
       "    </tr>\n",
       "  </tbody>\n",
       "</table>\n",
       "<p>5 rows × 27 columns</p>\n",
       "</div>"
      ],
      "text/plain": [
       "     group  outcome  age  gendera   BMI  hypertensive  atrialfibrillation  \\\n",
       "716      1     0.00   66        2 32.99             1                   0   \n",
       "845      2     0.00   65        2 31.63             1                   0   \n",
       "494      1     0.00   78        2 30.19             1                   0   \n",
       "76       1     0.00   60        2 48.75             1                   1   \n",
       "712      1     0.00   70        1 28.03             1                   0   \n",
       "\n",
       "     CHD with no MI  deficiencyanemias  depression  ...  temperature  SP O2  \\\n",
       "716               0                  0           0  ...        37.14  96.11   \n",
       "845               0                  0           0  ...        36.21  95.83   \n",
       "494               0                  1           0  ...        36.88  97.80   \n",
       "76                0                  0           0  ...        37.09  97.96   \n",
       "712               0                  0           0  ...        36.68  96.27   \n",
       "\n",
       "     Urine output  hematocrit   MCH   RDW  Leucocyte  Platelets  Neutrophils  \\\n",
       "716       1815.00       34.76 33.51 14.47      10.96     241.57        73.03   \n",
       "845       1865.00       31.27 29.33 14.37      19.97     310.17        89.02   \n",
       "494       2135.00       30.39 32.53 13.37      13.37     268.67        83.20   \n",
       "76        4790.00       37.46 26.97 15.93      11.11     269.86        75.20   \n",
       "712       1899.28       28.95 31.25 14.32       9.78     227.75        81.40   \n",
       "\n",
       "     Basophils  \n",
       "716       0.45  \n",
       "845       0.40  \n",
       "494       0.20  \n",
       "76        0.70  \n",
       "712       0.30  \n",
       "\n",
       "[5 rows x 27 columns]"
      ]
     },
     "execution_count": 84,
     "metadata": {},
     "output_type": "execute_result"
    }
   ],
   "source": [
    "X_train.head()"
   ]
  },
  {
   "cell_type": "code",
   "execution_count": 118,
   "metadata": {},
   "outputs": [
    {
     "data": {
      "text/plain": [
       "Index(['group', 'outcome', 'age', 'gendera', 'BMI', 'hypertensive',\n",
       "       'atrialfibrillation', 'CHD with no MI', 'deficiencyanemias',\n",
       "       'depression', 'Hyperlipemia', 'Renal failure', 'COPD', 'heart rate',\n",
       "       'Systolic blood pressure', 'Diastolic blood pressure',\n",
       "       'Respiratory rate', 'temperature', 'SP O2', 'Urine output',\n",
       "       'hematocrit', 'MCH', 'RDW', 'Leucocyte', 'Platelets', 'Neutrophils',\n",
       "       'Basophils'],\n",
       "      dtype='object')"
      ]
     },
     "execution_count": 118,
     "metadata": {},
     "output_type": "execute_result"
    }
   ],
   "source": [
    "X_train.columns"
   ]
  },
  {
   "cell_type": "code",
   "execution_count": 106,
   "metadata": {},
   "outputs": [
    {
     "data": {
      "text/plain": [
       "((965, 31), (212, 31))"
      ]
     },
     "execution_count": 106,
     "metadata": {},
     "output_type": "execute_result"
    }
   ],
   "source": [
    "x_train, x_test,y_train, y_test = train_test_split(x , y, test_size = 0.18, random_state = 42)\n",
    "x_train.shape, x_test.shape"
   ]
  },
  {
   "cell_type": "code",
   "execution_count": 120,
   "metadata": {},
   "outputs": [],
   "source": [
    "X_train = X_train.drop(['group', 'outcome', 'hypertensive',\n",
    "       'atrialfibrillation', 'CHD with no MI', 'deficiencyanemias',\n",
    "       'depression', 'Hyperlipemia', 'Renal failure', 'COPD', 'heart rate',\n",
    "       'Systolic blood pressure', 'Diastolic blood pressure',\n",
    "       'Respiratory rate', 'SP O2', 'Urine output',\n",
    "       'hematocrit', 'MCH', 'RDW', 'Leucocyte', 'Platelets', 'Neutrophils',\n",
    "       'Basophils'\n",
    "       ], axis = 1)"
   ]
  },
  {
   "cell_type": "code",
   "execution_count": 121,
   "metadata": {},
   "outputs": [],
   "source": [
    "X_test = X_test.drop(['group', 'outcome', 'hypertensive',\n",
    "       'atrialfibrillation', 'CHD with no MI', 'deficiencyanemias',\n",
    "       'depression', 'Hyperlipemia', 'Renal failure', 'COPD', 'heart rate',\n",
    "       'Systolic blood pressure', 'Diastolic blood pressure',\n",
    "       'Respiratory rate', 'SP O2', 'Urine output',\n",
    "       'hematocrit', 'MCH', 'RDW', 'Leucocyte', 'Platelets', 'Neutrophils',\n",
    "       'Basophils'\n",
    "       ], axis = 1)"
   ]
  },
  {
   "cell_type": "code",
   "execution_count": 122,
   "metadata": {},
   "outputs": [
    {
     "name": "stdout",
     "output_type": "stream",
     "text": [
      "<class 'pandas.core.frame.DataFrame'>\n",
      "Int64Index: 965 entries, 716 to 1126\n",
      "Data columns (total 10 columns):\n",
      " #   Column              Non-Null Count  Dtype  \n",
      "---  ------              --------------  -----  \n",
      " 0   outcome             965 non-null    float64\n",
      " 1   age                 965 non-null    int64  \n",
      " 2   gendera             965 non-null    int64  \n",
      " 3   BMI                 965 non-null    float64\n",
      " 4   hypertensive        965 non-null    int64  \n",
      " 5   atrialfibrillation  965 non-null    int64  \n",
      " 6   deficiencyanemias   965 non-null    int64  \n",
      " 7   depression          965 non-null    int64  \n",
      " 8   temperature         965 non-null    float64\n",
      " 9   Urine output        965 non-null    float64\n",
      "dtypes: float64(4), int64(6)\n",
      "memory usage: 82.9 KB\n"
     ]
    }
   ],
   "source": [
    "X_train.info()"
   ]
  },
  {
   "cell_type": "code",
   "execution_count": 125,
   "metadata": {},
   "outputs": [
    {
     "data": {
      "text/html": [
       "<div>\n",
       "<style scoped>\n",
       "    .dataframe tbody tr th:only-of-type {\n",
       "        vertical-align: middle;\n",
       "    }\n",
       "\n",
       "    .dataframe tbody tr th {\n",
       "        vertical-align: top;\n",
       "    }\n",
       "\n",
       "    .dataframe thead th {\n",
       "        text-align: right;\n",
       "    }\n",
       "</style>\n",
       "<table border=\"1\" class=\"dataframe\">\n",
       "  <thead>\n",
       "    <tr style=\"text-align: right;\">\n",
       "      <th></th>\n",
       "      <th>outcome</th>\n",
       "      <th>age</th>\n",
       "      <th>gendera</th>\n",
       "      <th>BMI</th>\n",
       "      <th>hypertensive</th>\n",
       "      <th>atrialfibrillation</th>\n",
       "      <th>deficiencyanemias</th>\n",
       "      <th>depression</th>\n",
       "      <th>temperature</th>\n",
       "      <th>Urine output</th>\n",
       "    </tr>\n",
       "  </thead>\n",
       "  <tbody>\n",
       "    <tr>\n",
       "      <th>716</th>\n",
       "      <td>0.00</td>\n",
       "      <td>66</td>\n",
       "      <td>2</td>\n",
       "      <td>32.99</td>\n",
       "      <td>1</td>\n",
       "      <td>0</td>\n",
       "      <td>0</td>\n",
       "      <td>0</td>\n",
       "      <td>37.14</td>\n",
       "      <td>1815.00</td>\n",
       "    </tr>\n",
       "    <tr>\n",
       "      <th>845</th>\n",
       "      <td>0.00</td>\n",
       "      <td>65</td>\n",
       "      <td>2</td>\n",
       "      <td>31.63</td>\n",
       "      <td>1</td>\n",
       "      <td>0</td>\n",
       "      <td>0</td>\n",
       "      <td>0</td>\n",
       "      <td>36.21</td>\n",
       "      <td>1865.00</td>\n",
       "    </tr>\n",
       "    <tr>\n",
       "      <th>494</th>\n",
       "      <td>0.00</td>\n",
       "      <td>78</td>\n",
       "      <td>2</td>\n",
       "      <td>30.19</td>\n",
       "      <td>1</td>\n",
       "      <td>0</td>\n",
       "      <td>1</td>\n",
       "      <td>0</td>\n",
       "      <td>36.88</td>\n",
       "      <td>2135.00</td>\n",
       "    </tr>\n",
       "    <tr>\n",
       "      <th>76</th>\n",
       "      <td>0.00</td>\n",
       "      <td>60</td>\n",
       "      <td>2</td>\n",
       "      <td>48.75</td>\n",
       "      <td>1</td>\n",
       "      <td>1</td>\n",
       "      <td>0</td>\n",
       "      <td>0</td>\n",
       "      <td>37.09</td>\n",
       "      <td>4790.00</td>\n",
       "    </tr>\n",
       "    <tr>\n",
       "      <th>712</th>\n",
       "      <td>0.00</td>\n",
       "      <td>70</td>\n",
       "      <td>1</td>\n",
       "      <td>28.03</td>\n",
       "      <td>1</td>\n",
       "      <td>0</td>\n",
       "      <td>0</td>\n",
       "      <td>0</td>\n",
       "      <td>36.68</td>\n",
       "      <td>1899.28</td>\n",
       "    </tr>\n",
       "    <tr>\n",
       "      <th>...</th>\n",
       "      <td>...</td>\n",
       "      <td>...</td>\n",
       "      <td>...</td>\n",
       "      <td>...</td>\n",
       "      <td>...</td>\n",
       "      <td>...</td>\n",
       "      <td>...</td>\n",
       "      <td>...</td>\n",
       "      <td>...</td>\n",
       "      <td>...</td>\n",
       "    </tr>\n",
       "    <tr>\n",
       "      <th>1044</th>\n",
       "      <td>0.00</td>\n",
       "      <td>75</td>\n",
       "      <td>2</td>\n",
       "      <td>27.42</td>\n",
       "      <td>0</td>\n",
       "      <td>0</td>\n",
       "      <td>1</td>\n",
       "      <td>0</td>\n",
       "      <td>36.95</td>\n",
       "      <td>2155.00</td>\n",
       "    </tr>\n",
       "    <tr>\n",
       "      <th>1095</th>\n",
       "      <td>0.00</td>\n",
       "      <td>69</td>\n",
       "      <td>2</td>\n",
       "      <td>30.51</td>\n",
       "      <td>0</td>\n",
       "      <td>1</td>\n",
       "      <td>0</td>\n",
       "      <td>0</td>\n",
       "      <td>35.96</td>\n",
       "      <td>2200.00</td>\n",
       "    </tr>\n",
       "    <tr>\n",
       "      <th>1130</th>\n",
       "      <td>0.00</td>\n",
       "      <td>69</td>\n",
       "      <td>2</td>\n",
       "      <td>30.19</td>\n",
       "      <td>1</td>\n",
       "      <td>0</td>\n",
       "      <td>0</td>\n",
       "      <td>0</td>\n",
       "      <td>36.73</td>\n",
       "      <td>2090.00</td>\n",
       "    </tr>\n",
       "    <tr>\n",
       "      <th>860</th>\n",
       "      <td>0.00</td>\n",
       "      <td>84</td>\n",
       "      <td>2</td>\n",
       "      <td>30.19</td>\n",
       "      <td>1</td>\n",
       "      <td>0</td>\n",
       "      <td>1</td>\n",
       "      <td>0</td>\n",
       "      <td>37.08</td>\n",
       "      <td>2380.00</td>\n",
       "    </tr>\n",
       "    <tr>\n",
       "      <th>1126</th>\n",
       "      <td>0.00</td>\n",
       "      <td>89</td>\n",
       "      <td>2</td>\n",
       "      <td>20.87</td>\n",
       "      <td>0</td>\n",
       "      <td>1</td>\n",
       "      <td>0</td>\n",
       "      <td>0</td>\n",
       "      <td>36.69</td>\n",
       "      <td>1560.00</td>\n",
       "    </tr>\n",
       "  </tbody>\n",
       "</table>\n",
       "<p>965 rows × 10 columns</p>\n",
       "</div>"
      ],
      "text/plain": [
       "      outcome  age  gendera   BMI  hypertensive  atrialfibrillation  \\\n",
       "716      0.00   66        2 32.99             1                   0   \n",
       "845      0.00   65        2 31.63             1                   0   \n",
       "494      0.00   78        2 30.19             1                   0   \n",
       "76       0.00   60        2 48.75             1                   1   \n",
       "712      0.00   70        1 28.03             1                   0   \n",
       "...       ...  ...      ...   ...           ...                 ...   \n",
       "1044     0.00   75        2 27.42             0                   0   \n",
       "1095     0.00   69        2 30.51             0                   1   \n",
       "1130     0.00   69        2 30.19             1                   0   \n",
       "860      0.00   84        2 30.19             1                   0   \n",
       "1126     0.00   89        2 20.87             0                   1   \n",
       "\n",
       "      deficiencyanemias  depression  temperature  Urine output  \n",
       "716                   0           0        37.14       1815.00  \n",
       "845                   0           0        36.21       1865.00  \n",
       "494                   1           0        36.88       2135.00  \n",
       "76                    0           0        37.09       4790.00  \n",
       "712                   0           0        36.68       1899.28  \n",
       "...                 ...         ...          ...           ...  \n",
       "1044                  1           0        36.95       2155.00  \n",
       "1095                  0           0        35.96       2200.00  \n",
       "1130                  0           0        36.73       2090.00  \n",
       "860                   1           0        37.08       2380.00  \n",
       "1126                  0           0        36.69       1560.00  \n",
       "\n",
       "[965 rows x 10 columns]"
      ]
     },
     "execution_count": 125,
     "metadata": {},
     "output_type": "execute_result"
    }
   ],
   "source": [
    "X_train.head()"
   ]
  },
  {
   "cell_type": "code",
   "execution_count": 128,
   "metadata": {},
   "outputs": [],
   "source": [
    "# Création d'une instance du modèle\n",
    "model = RandomForestClassifier()\n",
    "\n",
    "# Entraînement du modèle sur les données d'entraînement\n",
    "model.fit(X_train, y_train)\n",
    "\n",
    "# Prédiction sur les données de test\n",
    "y_pred = model.predict(X_test)\n"
   ]
  },
  {
   "cell_type": "code",
   "execution_count": 129,
   "metadata": {},
   "outputs": [
    {
     "name": "stdout",
     "output_type": "stream",
     "text": [
      "0.5660377358490566\n"
     ]
    }
   ],
   "source": [
    "accuracy = accuracy_score(y_test, y_pred)\n",
    "print(accuracy)"
   ]
  },
  {
   "cell_type": "code",
   "execution_count": 130,
   "metadata": {},
   "outputs": [
    {
     "name": "stdout",
     "output_type": "stream",
     "text": [
      "[[86 34]\n",
      " [58 34]]\n"
     ]
    }
   ],
   "source": [
    "from sklearn.metrics import confusion_matrix\n",
    "\n",
    "conf_max = confusion_matrix(y_test, y_pred)\n",
    "print(conf_max)"
   ]
  },
  {
   "cell_type": "code",
   "execution_count": 131,
   "metadata": {},
   "outputs": [
    {
     "data": {
      "text/plain": [
       "['class_dia.pkl']"
      ]
     },
     "execution_count": 131,
     "metadata": {},
     "output_type": "execute_result"
    }
   ],
   "source": [
    "pickle.dump(model, 'diab.pkl')"
   ]
  }
 ],
 "metadata": {
  "kernelspec": {
   "display_name": "dani_env",
   "language": "python",
   "name": "python3"
  },
  "language_info": {
   "codemirror_mode": {
    "name": "ipython",
    "version": 3
   },
   "file_extension": ".py",
   "mimetype": "text/x-python",
   "name": "python",
   "nbconvert_exporter": "python",
   "pygments_lexer": "ipython3",
   "version": "3.9.7"
  },
  "orig_nbformat": 4,
  "vscode": {
   "interpreter": {
    "hash": "313f9aa0f223ae78ae4f9cbf7b227f19f0baff6bff3492026b0e57b0e554386c"
   }
  }
 },
 "nbformat": 4,
 "nbformat_minor": 2
}
