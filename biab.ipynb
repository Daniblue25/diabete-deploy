{
 "cells": [
  {
   "cell_type": "code",
   "execution_count": 1,
   "metadata": {},
   "outputs": [],
   "source": [
    "import pandas as pd\n",
    "import numpy as np\n",
    "import matplotlib.pyplot as plt\n",
    "import seaborn as sns\n",
    "import plotly.express as px\n",
    "from sklearn.decomposition import PCA\n",
    "from sklearn.preprocessing import scale, StandardScaler"
   ]
  },
  {
   "cell_type": "code",
   "execution_count": 2,
   "metadata": {},
   "outputs": [],
   "source": [
    "import pickle\n",
    "\n",
    "import flask\n",
    "from flask import Flask, request, render_template, url_for"
   ]
  },
  {
   "cell_type": "code",
   "execution_count": 4,
   "metadata": {},
   "outputs": [
    {
     "data": {
      "text/html": [
       "<div>\n",
       "<style scoped>\n",
       "    .dataframe tbody tr th:only-of-type {\n",
       "        vertical-align: middle;\n",
       "    }\n",
       "\n",
       "    .dataframe tbody tr th {\n",
       "        vertical-align: top;\n",
       "    }\n",
       "\n",
       "    .dataframe thead th {\n",
       "        text-align: right;\n",
       "    }\n",
       "</style>\n",
       "<table border=\"1\" class=\"dataframe\">\n",
       "  <thead>\n",
       "    <tr style=\"text-align: right;\">\n",
       "      <th></th>\n",
       "      <th>group</th>\n",
       "      <th>ID</th>\n",
       "      <th>outcome</th>\n",
       "      <th>age</th>\n",
       "      <th>gendera</th>\n",
       "      <th>BMI</th>\n",
       "      <th>hypertensive</th>\n",
       "      <th>atrialfibrillation</th>\n",
       "      <th>CHD with no MI</th>\n",
       "      <th>diabetes</th>\n",
       "      <th>...</th>\n",
       "      <th>Blood sodium</th>\n",
       "      <th>Blood calcium</th>\n",
       "      <th>Chloride</th>\n",
       "      <th>Anion gap</th>\n",
       "      <th>Magnesium ion</th>\n",
       "      <th>PH</th>\n",
       "      <th>Bicarbonate</th>\n",
       "      <th>Lactic acid</th>\n",
       "      <th>PCO2</th>\n",
       "      <th>EF</th>\n",
       "    </tr>\n",
       "  </thead>\n",
       "  <tbody>\n",
       "    <tr>\n",
       "      <th>0</th>\n",
       "      <td>1</td>\n",
       "      <td>125047</td>\n",
       "      <td>0.0</td>\n",
       "      <td>72</td>\n",
       "      <td>1</td>\n",
       "      <td>37.588179</td>\n",
       "      <td>0</td>\n",
       "      <td>0</td>\n",
       "      <td>0</td>\n",
       "      <td>1</td>\n",
       "      <td>...</td>\n",
       "      <td>138.750000</td>\n",
       "      <td>7.463636</td>\n",
       "      <td>109.166667</td>\n",
       "      <td>13.166667</td>\n",
       "      <td>2.618182</td>\n",
       "      <td>7.230</td>\n",
       "      <td>21.166667</td>\n",
       "      <td>0.5</td>\n",
       "      <td>40.0</td>\n",
       "      <td>55</td>\n",
       "    </tr>\n",
       "    <tr>\n",
       "      <th>1</th>\n",
       "      <td>1</td>\n",
       "      <td>139812</td>\n",
       "      <td>0.0</td>\n",
       "      <td>75</td>\n",
       "      <td>2</td>\n",
       "      <td>NaN</td>\n",
       "      <td>0</td>\n",
       "      <td>0</td>\n",
       "      <td>0</td>\n",
       "      <td>0</td>\n",
       "      <td>...</td>\n",
       "      <td>138.888889</td>\n",
       "      <td>8.162500</td>\n",
       "      <td>98.444444</td>\n",
       "      <td>11.444444</td>\n",
       "      <td>1.887500</td>\n",
       "      <td>7.225</td>\n",
       "      <td>33.444444</td>\n",
       "      <td>0.5</td>\n",
       "      <td>78.0</td>\n",
       "      <td>55</td>\n",
       "    </tr>\n",
       "    <tr>\n",
       "      <th>2</th>\n",
       "      <td>1</td>\n",
       "      <td>109787</td>\n",
       "      <td>0.0</td>\n",
       "      <td>83</td>\n",
       "      <td>2</td>\n",
       "      <td>26.572634</td>\n",
       "      <td>0</td>\n",
       "      <td>0</td>\n",
       "      <td>0</td>\n",
       "      <td>0</td>\n",
       "      <td>...</td>\n",
       "      <td>140.714286</td>\n",
       "      <td>8.266667</td>\n",
       "      <td>105.857143</td>\n",
       "      <td>10.000000</td>\n",
       "      <td>2.157143</td>\n",
       "      <td>7.268</td>\n",
       "      <td>30.571429</td>\n",
       "      <td>0.5</td>\n",
       "      <td>71.5</td>\n",
       "      <td>35</td>\n",
       "    </tr>\n",
       "  </tbody>\n",
       "</table>\n",
       "<p>3 rows × 51 columns</p>\n",
       "</div>"
      ],
      "text/plain": [
       "   group      ID  outcome  age  gendera        BMI  hypertensive  \\\n",
       "0      1  125047      0.0   72        1  37.588179             0   \n",
       "1      1  139812      0.0   75        2        NaN             0   \n",
       "2      1  109787      0.0   83        2  26.572634             0   \n",
       "\n",
       "   atrialfibrillation  CHD with no MI  diabetes  ...  Blood sodium  \\\n",
       "0                   0               0         1  ...    138.750000   \n",
       "1                   0               0         0  ...    138.888889   \n",
       "2                   0               0         0  ...    140.714286   \n",
       "\n",
       "   Blood calcium    Chloride  Anion gap  Magnesium ion     PH  Bicarbonate  \\\n",
       "0       7.463636  109.166667  13.166667       2.618182  7.230    21.166667   \n",
       "1       8.162500   98.444444  11.444444       1.887500  7.225    33.444444   \n",
       "2       8.266667  105.857143  10.000000       2.157143  7.268    30.571429   \n",
       "\n",
       "   Lactic acid  PCO2  EF  \n",
       "0          0.5  40.0  55  \n",
       "1          0.5  78.0  55  \n",
       "2          0.5  71.5  35  \n",
       "\n",
       "[3 rows x 51 columns]"
      ]
     },
     "execution_count": 4,
     "metadata": {},
     "output_type": "execute_result"
    }
   ],
   "source": [
    "path = r\"C:\\Users\\LENOVO\\Documents\\M Learning/data01.csv\"\n",
    "df = pd.read_csv(path)\n",
    "df.head(3)"
   ]
  },
  {
   "cell_type": "code",
   "execution_count": 6,
   "metadata": {},
   "outputs": [
    {
     "name": "stdout",
     "output_type": "stream",
     "text": [
      "<class 'pandas.core.frame.DataFrame'>\n",
      "RangeIndex: 1177 entries, 0 to 1176\n",
      "Data columns (total 51 columns):\n",
      " #   Column                    Non-Null Count  Dtype  \n",
      "---  ------                    --------------  -----  \n",
      " 0   group                     1177 non-null   int64  \n",
      " 1   ID                        1177 non-null   int64  \n",
      " 2   outcome                   1176 non-null   float64\n",
      " 3   age                       1177 non-null   int64  \n",
      " 4   gendera                   1177 non-null   int64  \n",
      " 5   BMI                       962 non-null    float64\n",
      " 6   hypertensive              1177 non-null   int64  \n",
      " 7   atrialfibrillation        1177 non-null   int64  \n",
      " 8   CHD with no MI            1177 non-null   int64  \n",
      " 9   diabetes                  1177 non-null   int64  \n",
      " 10  deficiencyanemias         1177 non-null   int64  \n",
      " 11  depression                1177 non-null   int64  \n",
      " 12  Hyperlipemia              1177 non-null   int64  \n",
      " 13  Renal failure             1177 non-null   int64  \n",
      " 14  COPD                      1177 non-null   int64  \n",
      " 15  heart rate                1164 non-null   float64\n",
      " 16  Systolic blood pressure   1161 non-null   float64\n",
      " 17  Diastolic blood pressure  1161 non-null   float64\n",
      " 18  Respiratory rate          1164 non-null   float64\n",
      " 19  temperature               1158 non-null   float64\n",
      " 20  SP O2                     1164 non-null   float64\n",
      " 21  Urine output              1141 non-null   float64\n",
      " 22  hematocrit                1177 non-null   float64\n",
      " 23  RBC                       1177 non-null   float64\n",
      " 24  MCH                       1177 non-null   float64\n",
      " 25  MCHC                      1177 non-null   float64\n",
      " 26  MCV                       1177 non-null   float64\n",
      " 27  RDW                       1177 non-null   float64\n",
      " 28  Leucocyte                 1177 non-null   float64\n",
      " 29  Platelets                 1177 non-null   float64\n",
      " 30  Neutrophils               1033 non-null   float64\n",
      " 31  Basophils                 918 non-null    float64\n",
      " 32  Lymphocyte                1032 non-null   float64\n",
      " 33  PT                        1157 non-null   float64\n",
      " 34  INR                       1157 non-null   float64\n",
      " 35  NT-proBNP                 1177 non-null   float64\n",
      " 36  Creatine kinase           1012 non-null   float64\n",
      " 37  Creatinine                1177 non-null   float64\n",
      " 38  Urea nitrogen             1177 non-null   float64\n",
      " 39  glucose                   1159 non-null   float64\n",
      " 40  Blood potassium           1177 non-null   float64\n",
      " 41  Blood sodium              1177 non-null   float64\n",
      " 42  Blood calcium             1176 non-null   float64\n",
      " 43  Chloride                  1177 non-null   float64\n",
      " 44  Anion gap                 1177 non-null   float64\n",
      " 45  Magnesium ion             1177 non-null   float64\n",
      " 46  PH                        885 non-null    float64\n",
      " 47  Bicarbonate               1177 non-null   float64\n",
      " 48  Lactic acid               948 non-null    float64\n",
      " 49  PCO2                      883 non-null    float64\n",
      " 50  EF                        1177 non-null   int64  \n",
      "dtypes: float64(37), int64(14)\n",
      "memory usage: 469.1 KB\n"
     ]
    },
    {
     "data": {
      "text/plain": [
       "(group                         0\n",
       " ID                            0\n",
       " outcome                       1\n",
       " age                           0\n",
       " gendera                       0\n",
       " BMI                         215\n",
       " hypertensive                  0\n",
       " atrialfibrillation            0\n",
       " CHD with no MI                0\n",
       " diabetes                      0\n",
       " deficiencyanemias             0\n",
       " depression                    0\n",
       " Hyperlipemia                  0\n",
       " Renal failure                 0\n",
       " COPD                          0\n",
       " heart rate                   13\n",
       " Systolic blood pressure      16\n",
       " Diastolic blood pressure     16\n",
       " Respiratory rate             13\n",
       " temperature                  19\n",
       " SP O2                        13\n",
       " Urine output                 36\n",
       " hematocrit                    0\n",
       " RBC                           0\n",
       " MCH                           0\n",
       " MCHC                          0\n",
       " MCV                           0\n",
       " RDW                           0\n",
       " Leucocyte                     0\n",
       " Platelets                     0\n",
       " Neutrophils                 144\n",
       " Basophils                   259\n",
       " Lymphocyte                  145\n",
       " PT                           20\n",
       " INR                          20\n",
       " NT-proBNP                     0\n",
       " Creatine kinase             165\n",
       " Creatinine                    0\n",
       " Urea nitrogen                 0\n",
       " glucose                      18\n",
       " Blood potassium               0\n",
       " Blood sodium                  0\n",
       " Blood calcium                 1\n",
       " Chloride                      0\n",
       " Anion gap                     0\n",
       " Magnesium ion                 0\n",
       " PH                          292\n",
       " Bicarbonate                   0\n",
       " Lactic acid                 229\n",
       " PCO2                        294\n",
       " EF                            0\n",
       " dtype: int64,\n",
       " None)"
      ]
     },
     "execution_count": 6,
     "metadata": {},
     "output_type": "execute_result"
    }
   ],
   "source": [
    "df.isnull().sum(), df.info()"
   ]
  },
  {
   "cell_type": "code",
   "execution_count": null,
   "metadata": {},
   "outputs": [],
   "source": []
  },
  {
   "cell_type": "code",
   "execution_count": 7,
   "metadata": {},
   "outputs": [
    {
     "data": {
      "text/plain": [
       "Index(['group', 'ID', 'outcome', 'age', 'gendera', 'BMI', 'hypertensive',\n",
       "       'atrialfibrillation', 'CHD with no MI', 'diabetes', 'deficiencyanemias',\n",
       "       'depression', 'Hyperlipemia', 'Renal failure', 'COPD', 'heart rate',\n",
       "       'Systolic blood pressure', 'Diastolic blood pressure',\n",
       "       'Respiratory rate', 'temperature', 'SP O2', 'Urine output',\n",
       "       'hematocrit', 'RBC', 'MCH', 'MCHC', 'MCV', 'RDW', 'Leucocyte',\n",
       "       'Platelets', 'Neutrophils', 'Basophils', 'Lymphocyte', 'PT', 'INR',\n",
       "       'NT-proBNP', 'Creatine kinase', 'Creatinine', 'Urea nitrogen',\n",
       "       'glucose', 'Blood potassium', 'Blood sodium', 'Blood calcium',\n",
       "       'Chloride', 'Anion gap', 'Magnesium ion', 'PH', 'Bicarbonate',\n",
       "       'Lactic acid', 'PCO2', 'EF'],\n",
       "      dtype='object')"
      ]
     },
     "execution_count": 7,
     "metadata": {},
     "output_type": "execute_result"
    }
   ],
   "source": [
    "df.columns"
   ]
  },
  {
   "cell_type": "code",
   "execution_count": 19,
   "metadata": {},
   "outputs": [],
   "source": [
    "X =  df[['age', 'gendera', 'BMI','depression','temperature']]\n",
    "y = df['diabetes']"
   ]
  },
  {
   "cell_type": "code",
   "execution_count": 15,
   "metadata": {},
   "outputs": [
    {
     "data": {
      "text/html": [
       "<div>\n",
       "<style scoped>\n",
       "    .dataframe tbody tr th:only-of-type {\n",
       "        vertical-align: middle;\n",
       "    }\n",
       "\n",
       "    .dataframe tbody tr th {\n",
       "        vertical-align: top;\n",
       "    }\n",
       "\n",
       "    .dataframe thead th {\n",
       "        text-align: right;\n",
       "    }\n",
       "</style>\n",
       "<table border=\"1\" class=\"dataframe\">\n",
       "  <thead>\n",
       "    <tr style=\"text-align: right;\">\n",
       "      <th></th>\n",
       "      <th>age</th>\n",
       "      <th>gendera</th>\n",
       "      <th>BMI</th>\n",
       "      <th>depression</th>\n",
       "      <th>temperature</th>\n",
       "    </tr>\n",
       "  </thead>\n",
       "  <tbody>\n",
       "    <tr>\n",
       "      <th>0</th>\n",
       "      <td>72</td>\n",
       "      <td>1</td>\n",
       "      <td>37.588179</td>\n",
       "      <td>0</td>\n",
       "      <td>36.714286</td>\n",
       "    </tr>\n",
       "    <tr>\n",
       "      <th>1</th>\n",
       "      <td>75</td>\n",
       "      <td>2</td>\n",
       "      <td>NaN</td>\n",
       "      <td>0</td>\n",
       "      <td>36.682540</td>\n",
       "    </tr>\n",
       "    <tr>\n",
       "      <th>2</th>\n",
       "      <td>83</td>\n",
       "      <td>2</td>\n",
       "      <td>26.572634</td>\n",
       "      <td>0</td>\n",
       "      <td>36.453704</td>\n",
       "    </tr>\n",
       "    <tr>\n",
       "      <th>3</th>\n",
       "      <td>43</td>\n",
       "      <td>2</td>\n",
       "      <td>83.264629</td>\n",
       "      <td>0</td>\n",
       "      <td>36.287037</td>\n",
       "    </tr>\n",
       "    <tr>\n",
       "      <th>4</th>\n",
       "      <td>75</td>\n",
       "      <td>2</td>\n",
       "      <td>31.824842</td>\n",
       "      <td>0</td>\n",
       "      <td>36.761905</td>\n",
       "    </tr>\n",
       "  </tbody>\n",
       "</table>\n",
       "</div>"
      ],
      "text/plain": [
       "   age  gendera        BMI  depression  temperature\n",
       "0   72        1  37.588179           0    36.714286\n",
       "1   75        2        NaN           0    36.682540\n",
       "2   83        2  26.572634           0    36.453704\n",
       "3   43        2  83.264629           0    36.287037\n",
       "4   75        2  31.824842           0    36.761905"
      ]
     },
     "execution_count": 15,
     "metadata": {},
     "output_type": "execute_result"
    }
   ],
   "source": [
    "X.head()"
   ]
  },
  {
   "cell_type": "code",
   "execution_count": 16,
   "metadata": {},
   "outputs": [
    {
     "data": {
      "text/html": [
       "<div>\n",
       "<style scoped>\n",
       "    .dataframe tbody tr th:only-of-type {\n",
       "        vertical-align: middle;\n",
       "    }\n",
       "\n",
       "    .dataframe tbody tr th {\n",
       "        vertical-align: top;\n",
       "    }\n",
       "\n",
       "    .dataframe thead th {\n",
       "        text-align: right;\n",
       "    }\n",
       "</style>\n",
       "<table border=\"1\" class=\"dataframe\">\n",
       "  <thead>\n",
       "    <tr style=\"text-align: right;\">\n",
       "      <th></th>\n",
       "      <th>age</th>\n",
       "      <th>gendera</th>\n",
       "      <th>BMI</th>\n",
       "      <th>depression</th>\n",
       "      <th>temperature</th>\n",
       "    </tr>\n",
       "  </thead>\n",
       "  <tbody>\n",
       "    <tr>\n",
       "      <th>count</th>\n",
       "      <td>1177.000000</td>\n",
       "      <td>1177.000000</td>\n",
       "      <td>962.000000</td>\n",
       "      <td>1177.000000</td>\n",
       "      <td>1158.000000</td>\n",
       "    </tr>\n",
       "    <tr>\n",
       "      <th>mean</th>\n",
       "      <td>74.055225</td>\n",
       "      <td>1.525064</td>\n",
       "      <td>30.188278</td>\n",
       "      <td>0.118946</td>\n",
       "      <td>36.677286</td>\n",
       "    </tr>\n",
       "    <tr>\n",
       "      <th>std</th>\n",
       "      <td>13.434061</td>\n",
       "      <td>0.499584</td>\n",
       "      <td>9.325997</td>\n",
       "      <td>0.323863</td>\n",
       "      <td>0.607558</td>\n",
       "    </tr>\n",
       "    <tr>\n",
       "      <th>min</th>\n",
       "      <td>19.000000</td>\n",
       "      <td>1.000000</td>\n",
       "      <td>13.346801</td>\n",
       "      <td>0.000000</td>\n",
       "      <td>33.250000</td>\n",
       "    </tr>\n",
       "    <tr>\n",
       "      <th>25%</th>\n",
       "      <td>65.000000</td>\n",
       "      <td>1.000000</td>\n",
       "      <td>24.326461</td>\n",
       "      <td>0.000000</td>\n",
       "      <td>36.286045</td>\n",
       "    </tr>\n",
       "    <tr>\n",
       "      <th>50%</th>\n",
       "      <td>77.000000</td>\n",
       "      <td>2.000000</td>\n",
       "      <td>28.312474</td>\n",
       "      <td>0.000000</td>\n",
       "      <td>36.650794</td>\n",
       "    </tr>\n",
       "    <tr>\n",
       "      <th>75%</th>\n",
       "      <td>85.000000</td>\n",
       "      <td>2.000000</td>\n",
       "      <td>33.633509</td>\n",
       "      <td>0.000000</td>\n",
       "      <td>37.021991</td>\n",
       "    </tr>\n",
       "    <tr>\n",
       "      <th>max</th>\n",
       "      <td>99.000000</td>\n",
       "      <td>2.000000</td>\n",
       "      <td>104.970366</td>\n",
       "      <td>1.000000</td>\n",
       "      <td>39.132478</td>\n",
       "    </tr>\n",
       "  </tbody>\n",
       "</table>\n",
       "</div>"
      ],
      "text/plain": [
       "               age      gendera         BMI   depression  temperature\n",
       "count  1177.000000  1177.000000  962.000000  1177.000000  1158.000000\n",
       "mean     74.055225     1.525064   30.188278     0.118946    36.677286\n",
       "std      13.434061     0.499584    9.325997     0.323863     0.607558\n",
       "min      19.000000     1.000000   13.346801     0.000000    33.250000\n",
       "25%      65.000000     1.000000   24.326461     0.000000    36.286045\n",
       "50%      77.000000     2.000000   28.312474     0.000000    36.650794\n",
       "75%      85.000000     2.000000   33.633509     0.000000    37.021991\n",
       "max      99.000000     2.000000  104.970366     1.000000    39.132478"
      ]
     },
     "execution_count": 16,
     "metadata": {},
     "output_type": "execute_result"
    }
   ],
   "source": [
    "X.describe()"
   ]
  },
  {
   "cell_type": "code",
   "execution_count": 17,
   "metadata": {},
   "outputs": [
    {
     "data": {
      "text/plain": [
       "age              0\n",
       "gendera          0\n",
       "BMI            215\n",
       "depression       0\n",
       "temperature     19\n",
       "dtype: int64"
      ]
     },
     "execution_count": 17,
     "metadata": {},
     "output_type": "execute_result"
    }
   ],
   "source": [
    "X.isnull().sum()"
   ]
  },
  {
   "cell_type": "code",
   "execution_count": 20,
   "metadata": {},
   "outputs": [
    {
     "name": "stderr",
     "output_type": "stream",
     "text": [
      "C:\\Users\\LENOVO\\AppData\\Roaming\\Python\\Python39\\site-packages\\pandas\\core\\generic.py:6392: SettingWithCopyWarning: \n",
      "A value is trying to be set on a copy of a slice from a DataFrame\n",
      "\n",
      "See the caveats in the documentation: https://pandas.pydata.org/pandas-docs/stable/user_guide/indexing.html#returning-a-view-versus-a-copy\n",
      "  return self._update_inplace(result)\n"
     ]
    }
   ],
   "source": [
    "# Remplacer les valeurs manquantes par leur moyenne\n",
    "X['BMI'].fillna(X['BMI'].mean(), inplace = True)\n",
    "X['temperature'].fillna(X['temperature'].mean(), inplace = True)"
   ]
  },
  {
   "cell_type": "code",
   "execution_count": 21,
   "metadata": {},
   "outputs": [
    {
     "data": {
      "text/html": [
       "<div>\n",
       "<style scoped>\n",
       "    .dataframe tbody tr th:only-of-type {\n",
       "        vertical-align: middle;\n",
       "    }\n",
       "\n",
       "    .dataframe tbody tr th {\n",
       "        vertical-align: top;\n",
       "    }\n",
       "\n",
       "    .dataframe thead th {\n",
       "        text-align: right;\n",
       "    }\n",
       "</style>\n",
       "<table border=\"1\" class=\"dataframe\">\n",
       "  <thead>\n",
       "    <tr style=\"text-align: right;\">\n",
       "      <th></th>\n",
       "      <th>age</th>\n",
       "      <th>gendera</th>\n",
       "      <th>BMI</th>\n",
       "      <th>depression</th>\n",
       "      <th>temperature</th>\n",
       "    </tr>\n",
       "  </thead>\n",
       "  <tbody>\n",
       "    <tr>\n",
       "      <th>0</th>\n",
       "      <td>72</td>\n",
       "      <td>1</td>\n",
       "      <td>37.588179</td>\n",
       "      <td>0</td>\n",
       "      <td>36.714286</td>\n",
       "    </tr>\n",
       "    <tr>\n",
       "      <th>1</th>\n",
       "      <td>75</td>\n",
       "      <td>2</td>\n",
       "      <td>30.188278</td>\n",
       "      <td>0</td>\n",
       "      <td>36.682540</td>\n",
       "    </tr>\n",
       "    <tr>\n",
       "      <th>2</th>\n",
       "      <td>83</td>\n",
       "      <td>2</td>\n",
       "      <td>26.572634</td>\n",
       "      <td>0</td>\n",
       "      <td>36.453704</td>\n",
       "    </tr>\n",
       "    <tr>\n",
       "      <th>3</th>\n",
       "      <td>43</td>\n",
       "      <td>2</td>\n",
       "      <td>83.264629</td>\n",
       "      <td>0</td>\n",
       "      <td>36.287037</td>\n",
       "    </tr>\n",
       "    <tr>\n",
       "      <th>4</th>\n",
       "      <td>75</td>\n",
       "      <td>2</td>\n",
       "      <td>31.824842</td>\n",
       "      <td>0</td>\n",
       "      <td>36.761905</td>\n",
       "    </tr>\n",
       "  </tbody>\n",
       "</table>\n",
       "</div>"
      ],
      "text/plain": [
       "   age  gendera        BMI  depression  temperature\n",
       "0   72        1  37.588179           0    36.714286\n",
       "1   75        2  30.188278           0    36.682540\n",
       "2   83        2  26.572634           0    36.453704\n",
       "3   43        2  83.264629           0    36.287037\n",
       "4   75        2  31.824842           0    36.761905"
      ]
     },
     "execution_count": 21,
     "metadata": {},
     "output_type": "execute_result"
    }
   ],
   "source": [
    "X.head()"
   ]
  },
  {
   "cell_type": "code",
   "execution_count": 23,
   "metadata": {},
   "outputs": [
    {
     "name": "stdout",
     "output_type": "stream",
     "text": [
      "<class 'pandas.core.frame.DataFrame'>\n",
      "RangeIndex: 1177 entries, 0 to 1176\n",
      "Data columns (total 5 columns):\n",
      " #   Column       Non-Null Count  Dtype  \n",
      "---  ------       --------------  -----  \n",
      " 0   age          1177 non-null   int64  \n",
      " 1   gendera      1177 non-null   int64  \n",
      " 2   BMI          1177 non-null   float64\n",
      " 3   depression   1177 non-null   int64  \n",
      " 4   temperature  1177 non-null   float64\n",
      "dtypes: float64(2), int64(3)\n",
      "memory usage: 46.1 KB\n"
     ]
    }
   ],
   "source": [
    "X.info()"
   ]
  },
  {
   "attachments": {},
   "cell_type": "markdown",
   "metadata": {},
   "source": [
    "## Partitionnage et Conception"
   ]
  },
  {
   "cell_type": "code",
   "execution_count": 27,
   "metadata": {},
   "outputs": [
    {
     "data": {
      "text/plain": [
       "((941, 5), (236, 5))"
      ]
     },
     "execution_count": 27,
     "metadata": {},
     "output_type": "execute_result"
    }
   ],
   "source": [
    "from sklearn.model_selection import train_test_split\n",
    "\n",
    "X_train, X_test,y_train, y_test = train_test_split(X , y, test_size = 0.2, random_state = 42)\n",
    "X_train.shape, X_test.shape"
   ]
  },
  {
   "cell_type": "code",
   "execution_count": 25,
   "metadata": {},
   "outputs": [],
   "source": [
    "from sklearn.linear_model import LogisticRegression\n",
    "from sklearn.neighbors import KNeighborsClassifier\n",
    "from sklearn.tree import DecisionTreeClassifier\n",
    "from sklearn.ensemble import RandomForestClassifier\n",
    "from sklearn.metrics import accuracy_score"
   ]
  },
  {
   "cell_type": "code",
   "execution_count": 28,
   "metadata": {},
   "outputs": [
    {
     "name": "stdout",
     "output_type": "stream",
     "text": [
      "Accuracy of Logistic Regression: 0.559\n",
      "Accuracy of KNN: 0.555\n",
      "Accuracy of Decision Tree: 0.547\n",
      "Accuracy of Random Forest: 0.53\n"
     ]
    }
   ],
   "source": [
    "# Initialiser les modèles\n",
    "models = [LogisticRegression(), KNeighborsClassifier(), DecisionTreeClassifier(), RandomForestClassifier()]\n",
    "model_names = ['Logistic Regression', 'KNN', 'Decision Tree', 'Random Forest']\n",
    "acc = []\n",
    "# Boucle sur les modèles et effectuer la classification\n",
    "for model, model_name in zip(models, model_names):\n",
    "    classif = model\n",
    "    classif.fit(X_train, y_train)\n",
    "    y_pred = classif.predict(X_test)\n",
    "    accuracy = accuracy_score(y_test, y_pred)\n",
    "    print(f\"Accuracy of {model_name}: {np.round(accuracy, 3)}\")\n",
    "    # Stocker les scores de précision pour chaque modèle dans un dataframe\n",
    "    acc.append(accuracy) "
   ]
  },
  {
   "cell_type": "code",
   "execution_count": 42,
   "metadata": {},
   "outputs": [
    {
     "name": "stdout",
     "output_type": "stream",
     "text": [
      "0.597457627118644\n"
     ]
    }
   ],
   "source": [
    "# Création d'une instance du modèle\n",
    "model = RandomForestClassifier()\n",
    "\n",
    "# Entraînement du modèle sur les données d'entraînement\n",
    "model.fit(X_train, y_train)\n",
    "\n",
    "# Prédiction sur les données de test\n",
    "y_pred = model.predict(X_test)\n",
    "\n",
    "accuracy = accuracy_score(y_test, y_pred)\n",
    "print(accuracy)"
   ]
  },
  {
   "cell_type": "code",
   "execution_count": 43,
   "metadata": {},
   "outputs": [
    {
     "name": "stdout",
     "output_type": "stream",
     "text": [
      "[[94 38]\n",
      " [57 47]]\n"
     ]
    }
   ],
   "source": [
    "from sklearn.metrics import confusion_matrix\n",
    "\n",
    "conf_max = confusion_matrix(y_test, y_pred)\n",
    "print(conf_max)"
   ]
  },
  {
   "cell_type": "code",
   "execution_count": 45,
   "metadata": {},
   "outputs": [
    {
     "data": {
      "text/plain": [
       "1.0"
      ]
     },
     "execution_count": 45,
     "metadata": {},
     "output_type": "execute_result"
    }
   ],
   "source": [
    "col = model.predict(X_train)\n",
    "accuracy_score(y_train, col)"
   ]
  },
  {
   "cell_type": "code",
   "execution_count": 46,
   "metadata": {},
   "outputs": [],
   "source": [
    "with open('diab.pkl', 'wb') as f:\n",
    "    pickle.dump(model, f)"
   ]
  },
  {
   "cell_type": "code",
   "execution_count": 48,
   "metadata": {},
   "outputs": [],
   "source": [
    "with open('diab.pkl', 'rb') as f:\n",
    "    modele = pickle.load(f)"
   ]
  },
  {
   "cell_type": "code",
   "execution_count": 49,
   "metadata": {},
   "outputs": [
    {
     "data": {
      "text/html": [
       "<div>\n",
       "<style scoped>\n",
       "    .dataframe tbody tr th:only-of-type {\n",
       "        vertical-align: middle;\n",
       "    }\n",
       "\n",
       "    .dataframe tbody tr th {\n",
       "        vertical-align: top;\n",
       "    }\n",
       "\n",
       "    .dataframe thead th {\n",
       "        text-align: right;\n",
       "    }\n",
       "</style>\n",
       "<table border=\"1\" class=\"dataframe\">\n",
       "  <thead>\n",
       "    <tr style=\"text-align: right;\">\n",
       "      <th></th>\n",
       "      <th>age</th>\n",
       "      <th>gendera</th>\n",
       "      <th>BMI</th>\n",
       "      <th>depression</th>\n",
       "      <th>temperature</th>\n",
       "    </tr>\n",
       "  </thead>\n",
       "  <tbody>\n",
       "    <tr>\n",
       "      <th>0</th>\n",
       "      <td>72</td>\n",
       "      <td>1</td>\n",
       "      <td>37.588179</td>\n",
       "      <td>0</td>\n",
       "      <td>36.714286</td>\n",
       "    </tr>\n",
       "    <tr>\n",
       "      <th>1</th>\n",
       "      <td>75</td>\n",
       "      <td>2</td>\n",
       "      <td>30.188278</td>\n",
       "      <td>0</td>\n",
       "      <td>36.682540</td>\n",
       "    </tr>\n",
       "    <tr>\n",
       "      <th>2</th>\n",
       "      <td>83</td>\n",
       "      <td>2</td>\n",
       "      <td>26.572634</td>\n",
       "      <td>0</td>\n",
       "      <td>36.453704</td>\n",
       "    </tr>\n",
       "    <tr>\n",
       "      <th>3</th>\n",
       "      <td>43</td>\n",
       "      <td>2</td>\n",
       "      <td>83.264629</td>\n",
       "      <td>0</td>\n",
       "      <td>36.287037</td>\n",
       "    </tr>\n",
       "    <tr>\n",
       "      <th>4</th>\n",
       "      <td>75</td>\n",
       "      <td>2</td>\n",
       "      <td>31.824842</td>\n",
       "      <td>0</td>\n",
       "      <td>36.761905</td>\n",
       "    </tr>\n",
       "  </tbody>\n",
       "</table>\n",
       "</div>"
      ],
      "text/plain": [
       "   age  gendera        BMI  depression  temperature\n",
       "0   72        1  37.588179           0    36.714286\n",
       "1   75        2  30.188278           0    36.682540\n",
       "2   83        2  26.572634           0    36.453704\n",
       "3   43        2  83.264629           0    36.287037\n",
       "4   75        2  31.824842           0    36.761905"
      ]
     },
     "execution_count": 49,
     "metadata": {},
     "output_type": "execute_result"
    }
   ],
   "source": [
    "X.head()"
   ]
  },
  {
   "cell_type": "code",
   "execution_count": 54,
   "metadata": {},
   "outputs": [
    {
     "name": "stderr",
     "output_type": "stream",
     "text": [
      "C:\\Users\\LENOVO\\AppData\\Roaming\\Python\\Python39\\site-packages\\sklearn\\base.py:450: UserWarning: X does not have valid feature names, but RandomForestClassifier was fitted with feature names\n",
      "  warnings.warn(\n"
     ]
    },
    {
     "data": {
      "text/plain": [
       "'No diabete'"
      ]
     },
     "execution_count": 54,
     "metadata": {},
     "output_type": "execute_result"
    }
   ],
   "source": [
    "prediction = modele.predict([[72,1,37,0,36]])\n",
    "if prediction[0]==0:\n",
    "    pred = \"No diabete\"\n",
    "else:\n",
    "    pred = \"Diabete\"\n",
    "pred"
   ]
  }
 ],
 "metadata": {
  "kernelspec": {
   "display_name": "dani_env",
   "language": "python",
   "name": "python3"
  },
  "language_info": {
   "codemirror_mode": {
    "name": "ipython",
    "version": 3
   },
   "file_extension": ".py",
   "mimetype": "text/x-python",
   "name": "python",
   "nbconvert_exporter": "python",
   "pygments_lexer": "ipython3",
   "version": "3.9.7"
  },
  "orig_nbformat": 4
 },
 "nbformat": 4,
 "nbformat_minor": 2
}
